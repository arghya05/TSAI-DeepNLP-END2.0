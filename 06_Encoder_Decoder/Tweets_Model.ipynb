{
  "nbformat": 4,
  "nbformat_minor": 0,
  "metadata": {
    "colab": {
      "name": "Tweets_Model.ipynb",
      "provenance": [],
      "collapsed_sections": [],
      "authorship_tag": "ABX9TyNPEEbVdQZgWYbNqKC0ggH9",
      "include_colab_link": true
    },
    "kernelspec": {
      "name": "python3",
      "display_name": "Python 3"
    },
    "language_info": {
      "name": "python"
    },
    "accelerator": "GPU",
    "widgets": {
      "application/vnd.jupyter.widget-state+json": {
        "cd1679c357624d68a2991338ffd2a424": {
          "model_module": "@jupyter-widgets/controls",
          "model_name": "HBoxModel",
          "state": {
            "_view_name": "HBoxView",
            "_dom_classes": [],
            "_model_name": "HBoxModel",
            "_view_module": "@jupyter-widgets/controls",
            "_model_module_version": "1.5.0",
            "_view_count": null,
            "_view_module_version": "1.5.0",
            "box_style": "",
            "layout": "IPY_MODEL_9a08fe4066b6473681a67e3245d74c2e",
            "_model_module": "@jupyter-widgets/controls",
            "children": [
              "IPY_MODEL_84da8a16a3b84b36b93876b18c77b487",
              "IPY_MODEL_14f7f6964dee42038b3d96b0f4cc9d62"
            ]
          }
        },
        "9a08fe4066b6473681a67e3245d74c2e": {
          "model_module": "@jupyter-widgets/base",
          "model_name": "LayoutModel",
          "state": {
            "_view_name": "LayoutView",
            "grid_template_rows": null,
            "right": null,
            "justify_content": null,
            "_view_module": "@jupyter-widgets/base",
            "overflow": null,
            "_model_module_version": "1.2.0",
            "_view_count": null,
            "flex_flow": "row wrap",
            "width": "100%",
            "min_width": null,
            "border": null,
            "align_items": null,
            "bottom": null,
            "_model_module": "@jupyter-widgets/base",
            "top": null,
            "grid_column": null,
            "overflow_y": null,
            "overflow_x": null,
            "grid_auto_flow": null,
            "grid_area": null,
            "grid_template_columns": null,
            "flex": null,
            "_model_name": "LayoutModel",
            "justify_items": null,
            "grid_row": null,
            "max_height": null,
            "align_content": null,
            "visibility": null,
            "align_self": null,
            "height": null,
            "min_height": null,
            "padding": null,
            "grid_auto_rows": null,
            "grid_gap": null,
            "max_width": null,
            "order": null,
            "_view_module_version": "1.2.0",
            "grid_template_areas": null,
            "object_position": null,
            "object_fit": null,
            "grid_auto_columns": null,
            "margin": null,
            "display": "inline-flex",
            "left": null
          }
        },
        "84da8a16a3b84b36b93876b18c77b487": {
          "model_module": "@jupyter-widgets/controls",
          "model_name": "FloatProgressModel",
          "state": {
            "_view_name": "ProgressView",
            "style": "IPY_MODEL_83f7103de91545a2b182b3eda36d57c1",
            "_dom_classes": [],
            "description": "Validation sanity check: 100%",
            "_model_name": "FloatProgressModel",
            "bar_style": "info",
            "max": 2,
            "_view_module": "@jupyter-widgets/controls",
            "_model_module_version": "1.5.0",
            "value": 2,
            "_view_count": null,
            "_view_module_version": "1.5.0",
            "orientation": "horizontal",
            "min": 0,
            "description_tooltip": null,
            "_model_module": "@jupyter-widgets/controls",
            "layout": "IPY_MODEL_eda537e58f214c3bbca13c3e07eeeec2"
          }
        },
        "14f7f6964dee42038b3d96b0f4cc9d62": {
          "model_module": "@jupyter-widgets/controls",
          "model_name": "HTMLModel",
          "state": {
            "_view_name": "HTMLView",
            "style": "IPY_MODEL_dbf31e2b31644386a45d5e0fbbb3744b",
            "_dom_classes": [],
            "description": "",
            "_model_name": "HTMLModel",
            "placeholder": "​",
            "_view_module": "@jupyter-widgets/controls",
            "_model_module_version": "1.5.0",
            "value": " 2/2 [00:00&lt;00:00,  7.48it/s]",
            "_view_count": null,
            "_view_module_version": "1.5.0",
            "description_tooltip": null,
            "_model_module": "@jupyter-widgets/controls",
            "layout": "IPY_MODEL_0ca86f9f833945f0ac39c24b58da0156"
          }
        },
        "83f7103de91545a2b182b3eda36d57c1": {
          "model_module": "@jupyter-widgets/controls",
          "model_name": "ProgressStyleModel",
          "state": {
            "_view_name": "StyleView",
            "_model_name": "ProgressStyleModel",
            "description_width": "initial",
            "_view_module": "@jupyter-widgets/base",
            "_model_module_version": "1.5.0",
            "_view_count": null,
            "_view_module_version": "1.2.0",
            "bar_color": null,
            "_model_module": "@jupyter-widgets/controls"
          }
        },
        "eda537e58f214c3bbca13c3e07eeeec2": {
          "model_module": "@jupyter-widgets/base",
          "model_name": "LayoutModel",
          "state": {
            "_view_name": "LayoutView",
            "grid_template_rows": null,
            "right": null,
            "justify_content": null,
            "_view_module": "@jupyter-widgets/base",
            "overflow": null,
            "_model_module_version": "1.2.0",
            "_view_count": null,
            "flex_flow": null,
            "width": null,
            "min_width": null,
            "border": null,
            "align_items": null,
            "bottom": null,
            "_model_module": "@jupyter-widgets/base",
            "top": null,
            "grid_column": null,
            "overflow_y": null,
            "overflow_x": null,
            "grid_auto_flow": null,
            "grid_area": null,
            "grid_template_columns": null,
            "flex": "2",
            "_model_name": "LayoutModel",
            "justify_items": null,
            "grid_row": null,
            "max_height": null,
            "align_content": null,
            "visibility": null,
            "align_self": null,
            "height": null,
            "min_height": null,
            "padding": null,
            "grid_auto_rows": null,
            "grid_gap": null,
            "max_width": null,
            "order": null,
            "_view_module_version": "1.2.0",
            "grid_template_areas": null,
            "object_position": null,
            "object_fit": null,
            "grid_auto_columns": null,
            "margin": null,
            "display": null,
            "left": null
          }
        },
        "dbf31e2b31644386a45d5e0fbbb3744b": {
          "model_module": "@jupyter-widgets/controls",
          "model_name": "DescriptionStyleModel",
          "state": {
            "_view_name": "StyleView",
            "_model_name": "DescriptionStyleModel",
            "description_width": "",
            "_view_module": "@jupyter-widgets/base",
            "_model_module_version": "1.5.0",
            "_view_count": null,
            "_view_module_version": "1.2.0",
            "_model_module": "@jupyter-widgets/controls"
          }
        },
        "0ca86f9f833945f0ac39c24b58da0156": {
          "model_module": "@jupyter-widgets/base",
          "model_name": "LayoutModel",
          "state": {
            "_view_name": "LayoutView",
            "grid_template_rows": null,
            "right": null,
            "justify_content": null,
            "_view_module": "@jupyter-widgets/base",
            "overflow": null,
            "_model_module_version": "1.2.0",
            "_view_count": null,
            "flex_flow": null,
            "width": null,
            "min_width": null,
            "border": null,
            "align_items": null,
            "bottom": null,
            "_model_module": "@jupyter-widgets/base",
            "top": null,
            "grid_column": null,
            "overflow_y": null,
            "overflow_x": null,
            "grid_auto_flow": null,
            "grid_area": null,
            "grid_template_columns": null,
            "flex": null,
            "_model_name": "LayoutModel",
            "justify_items": null,
            "grid_row": null,
            "max_height": null,
            "align_content": null,
            "visibility": null,
            "align_self": null,
            "height": null,
            "min_height": null,
            "padding": null,
            "grid_auto_rows": null,
            "grid_gap": null,
            "max_width": null,
            "order": null,
            "_view_module_version": "1.2.0",
            "grid_template_areas": null,
            "object_position": null,
            "object_fit": null,
            "grid_auto_columns": null,
            "margin": null,
            "display": null,
            "left": null
          }
        },
        "beac20c58d3c410c961d1d1b26aed294": {
          "model_module": "@jupyter-widgets/controls",
          "model_name": "HBoxModel",
          "state": {
            "_view_name": "HBoxView",
            "_dom_classes": [],
            "_model_name": "HBoxModel",
            "_view_module": "@jupyter-widgets/controls",
            "_model_module_version": "1.5.0",
            "_view_count": null,
            "_view_module_version": "1.5.0",
            "box_style": "",
            "layout": "IPY_MODEL_42bd227226e94ca39eaf0862a9d2f6a4",
            "_model_module": "@jupyter-widgets/controls",
            "children": [
              "IPY_MODEL_95a8b1e43dfb4d3e9b1a4d9608ea8afd",
              "IPY_MODEL_992c445d370c487c9f0fd8f7061c99d9"
            ]
          }
        },
        "42bd227226e94ca39eaf0862a9d2f6a4": {
          "model_module": "@jupyter-widgets/base",
          "model_name": "LayoutModel",
          "state": {
            "_view_name": "LayoutView",
            "grid_template_rows": null,
            "right": null,
            "justify_content": null,
            "_view_module": "@jupyter-widgets/base",
            "overflow": null,
            "_model_module_version": "1.2.0",
            "_view_count": null,
            "flex_flow": "row wrap",
            "width": "100%",
            "min_width": null,
            "border": null,
            "align_items": null,
            "bottom": null,
            "_model_module": "@jupyter-widgets/base",
            "top": null,
            "grid_column": null,
            "overflow_y": null,
            "overflow_x": null,
            "grid_auto_flow": null,
            "grid_area": null,
            "grid_template_columns": null,
            "flex": null,
            "_model_name": "LayoutModel",
            "justify_items": null,
            "grid_row": null,
            "max_height": null,
            "align_content": null,
            "visibility": null,
            "align_self": null,
            "height": null,
            "min_height": null,
            "padding": null,
            "grid_auto_rows": null,
            "grid_gap": null,
            "max_width": null,
            "order": null,
            "_view_module_version": "1.2.0",
            "grid_template_areas": null,
            "object_position": null,
            "object_fit": null,
            "grid_auto_columns": null,
            "margin": null,
            "display": "inline-flex",
            "left": null
          }
        },
        "95a8b1e43dfb4d3e9b1a4d9608ea8afd": {
          "model_module": "@jupyter-widgets/controls",
          "model_name": "FloatProgressModel",
          "state": {
            "_view_name": "ProgressView",
            "style": "IPY_MODEL_aef5fca280e244b4bf03d0a97ed94120",
            "_dom_classes": [],
            "description": "Epoch 4: 100%",
            "_model_name": "FloatProgressModel",
            "bar_style": "success",
            "max": 1351,
            "_view_module": "@jupyter-widgets/controls",
            "_model_module_version": "1.5.0",
            "value": 1351,
            "_view_count": null,
            "_view_module_version": "1.5.0",
            "orientation": "horizontal",
            "min": 0,
            "description_tooltip": null,
            "_model_module": "@jupyter-widgets/controls",
            "layout": "IPY_MODEL_8eeea34c74cb42fcab0c9b1e3b7277c4"
          }
        },
        "992c445d370c487c9f0fd8f7061c99d9": {
          "model_module": "@jupyter-widgets/controls",
          "model_name": "HTMLModel",
          "state": {
            "_view_name": "HTMLView",
            "style": "IPY_MODEL_04d3296900d44d07a1c9869594720603",
            "_dom_classes": [],
            "description": "",
            "_model_name": "HTMLModel",
            "placeholder": "​",
            "_view_module": "@jupyter-widgets/controls",
            "_model_module_version": "1.5.0",
            "value": " 1351/1351 [00:20&lt;00:00, 66.84it/s, loss=0.252, v_num=2, val_loss=0.651, val_acc=0.807, train_loss=0.341, train_acc=0.872]",
            "_view_count": null,
            "_view_module_version": "1.5.0",
            "description_tooltip": null,
            "_model_module": "@jupyter-widgets/controls",
            "layout": "IPY_MODEL_1d512127fda444a796cf40f97c0381a9"
          }
        },
        "aef5fca280e244b4bf03d0a97ed94120": {
          "model_module": "@jupyter-widgets/controls",
          "model_name": "ProgressStyleModel",
          "state": {
            "_view_name": "StyleView",
            "_model_name": "ProgressStyleModel",
            "description_width": "initial",
            "_view_module": "@jupyter-widgets/base",
            "_model_module_version": "1.5.0",
            "_view_count": null,
            "_view_module_version": "1.2.0",
            "bar_color": null,
            "_model_module": "@jupyter-widgets/controls"
          }
        },
        "8eeea34c74cb42fcab0c9b1e3b7277c4": {
          "model_module": "@jupyter-widgets/base",
          "model_name": "LayoutModel",
          "state": {
            "_view_name": "LayoutView",
            "grid_template_rows": null,
            "right": null,
            "justify_content": null,
            "_view_module": "@jupyter-widgets/base",
            "overflow": null,
            "_model_module_version": "1.2.0",
            "_view_count": null,
            "flex_flow": null,
            "width": null,
            "min_width": null,
            "border": null,
            "align_items": null,
            "bottom": null,
            "_model_module": "@jupyter-widgets/base",
            "top": null,
            "grid_column": null,
            "overflow_y": null,
            "overflow_x": null,
            "grid_auto_flow": null,
            "grid_area": null,
            "grid_template_columns": null,
            "flex": "2",
            "_model_name": "LayoutModel",
            "justify_items": null,
            "grid_row": null,
            "max_height": null,
            "align_content": null,
            "visibility": null,
            "align_self": null,
            "height": null,
            "min_height": null,
            "padding": null,
            "grid_auto_rows": null,
            "grid_gap": null,
            "max_width": null,
            "order": null,
            "_view_module_version": "1.2.0",
            "grid_template_areas": null,
            "object_position": null,
            "object_fit": null,
            "grid_auto_columns": null,
            "margin": null,
            "display": null,
            "left": null
          }
        },
        "04d3296900d44d07a1c9869594720603": {
          "model_module": "@jupyter-widgets/controls",
          "model_name": "DescriptionStyleModel",
          "state": {
            "_view_name": "StyleView",
            "_model_name": "DescriptionStyleModel",
            "description_width": "",
            "_view_module": "@jupyter-widgets/base",
            "_model_module_version": "1.5.0",
            "_view_count": null,
            "_view_module_version": "1.2.0",
            "_model_module": "@jupyter-widgets/controls"
          }
        },
        "1d512127fda444a796cf40f97c0381a9": {
          "model_module": "@jupyter-widgets/base",
          "model_name": "LayoutModel",
          "state": {
            "_view_name": "LayoutView",
            "grid_template_rows": null,
            "right": null,
            "justify_content": null,
            "_view_module": "@jupyter-widgets/base",
            "overflow": null,
            "_model_module_version": "1.2.0",
            "_view_count": null,
            "flex_flow": null,
            "width": null,
            "min_width": null,
            "border": null,
            "align_items": null,
            "bottom": null,
            "_model_module": "@jupyter-widgets/base",
            "top": null,
            "grid_column": null,
            "overflow_y": null,
            "overflow_x": null,
            "grid_auto_flow": null,
            "grid_area": null,
            "grid_template_columns": null,
            "flex": null,
            "_model_name": "LayoutModel",
            "justify_items": null,
            "grid_row": null,
            "max_height": null,
            "align_content": null,
            "visibility": null,
            "align_self": null,
            "height": null,
            "min_height": null,
            "padding": null,
            "grid_auto_rows": null,
            "grid_gap": null,
            "max_width": null,
            "order": null,
            "_view_module_version": "1.2.0",
            "grid_template_areas": null,
            "object_position": null,
            "object_fit": null,
            "grid_auto_columns": null,
            "margin": null,
            "display": null,
            "left": null
          }
        },
        "aaa24889ba164287b266c84aba49f552": {
          "model_module": "@jupyter-widgets/controls",
          "model_name": "HBoxModel",
          "state": {
            "_view_name": "HBoxView",
            "_dom_classes": [],
            "_model_name": "HBoxModel",
            "_view_module": "@jupyter-widgets/controls",
            "_model_module_version": "1.5.0",
            "_view_count": null,
            "_view_module_version": "1.5.0",
            "box_style": "",
            "layout": "IPY_MODEL_d1fdf30ceb6e415cb6b119879ae101d8",
            "_model_module": "@jupyter-widgets/controls",
            "children": [
              "IPY_MODEL_d7d983e4fe5b428f83910b684c718408",
              "IPY_MODEL_eb6df4beb68f4b6a83e6a04c6f8ec894"
            ]
          }
        },
        "d1fdf30ceb6e415cb6b119879ae101d8": {
          "model_module": "@jupyter-widgets/base",
          "model_name": "LayoutModel",
          "state": {
            "_view_name": "LayoutView",
            "grid_template_rows": null,
            "right": null,
            "justify_content": null,
            "_view_module": "@jupyter-widgets/base",
            "overflow": null,
            "_model_module_version": "1.2.0",
            "_view_count": null,
            "flex_flow": "row wrap",
            "width": "100%",
            "min_width": null,
            "border": null,
            "align_items": null,
            "bottom": null,
            "_model_module": "@jupyter-widgets/base",
            "top": null,
            "grid_column": null,
            "overflow_y": null,
            "overflow_x": null,
            "grid_auto_flow": null,
            "grid_area": null,
            "grid_template_columns": null,
            "flex": null,
            "_model_name": "LayoutModel",
            "justify_items": null,
            "grid_row": null,
            "max_height": null,
            "align_content": null,
            "visibility": null,
            "align_self": null,
            "height": null,
            "min_height": null,
            "padding": null,
            "grid_auto_rows": null,
            "grid_gap": null,
            "max_width": null,
            "order": null,
            "_view_module_version": "1.2.0",
            "grid_template_areas": null,
            "object_position": null,
            "object_fit": null,
            "grid_auto_columns": null,
            "margin": null,
            "display": "inline-flex",
            "left": null
          }
        },
        "d7d983e4fe5b428f83910b684c718408": {
          "model_module": "@jupyter-widgets/controls",
          "model_name": "FloatProgressModel",
          "state": {
            "_view_name": "ProgressView",
            "style": "IPY_MODEL_b71975818f0d4c9b94b62712b4943877",
            "_dom_classes": [],
            "description": "Validating: 100%",
            "_model_name": "FloatProgressModel",
            "bar_style": "info",
            "max": 300,
            "_view_module": "@jupyter-widgets/controls",
            "_model_module_version": "1.5.0",
            "value": 300,
            "_view_count": null,
            "_view_module_version": "1.5.0",
            "orientation": "horizontal",
            "min": 0,
            "description_tooltip": null,
            "_model_module": "@jupyter-widgets/controls",
            "layout": "IPY_MODEL_a8e7a0d5743e421a92d62d385d84f9cc"
          }
        },
        "eb6df4beb68f4b6a83e6a04c6f8ec894": {
          "model_module": "@jupyter-widgets/controls",
          "model_name": "HTMLModel",
          "state": {
            "_view_name": "HTMLView",
            "style": "IPY_MODEL_5ec8d96cab7e4a25b4abce9d96321b52",
            "_dom_classes": [],
            "description": "",
            "_model_name": "HTMLModel",
            "placeholder": "​",
            "_view_module": "@jupyter-widgets/controls",
            "_model_module_version": "1.5.0",
            "value": " 300/300 [00:02&lt;00:00, 135.42it/s]",
            "_view_count": null,
            "_view_module_version": "1.5.0",
            "description_tooltip": null,
            "_model_module": "@jupyter-widgets/controls",
            "layout": "IPY_MODEL_7225a91c59e34b94952a80d1a25ea89b"
          }
        },
        "b71975818f0d4c9b94b62712b4943877": {
          "model_module": "@jupyter-widgets/controls",
          "model_name": "ProgressStyleModel",
          "state": {
            "_view_name": "StyleView",
            "_model_name": "ProgressStyleModel",
            "description_width": "initial",
            "_view_module": "@jupyter-widgets/base",
            "_model_module_version": "1.5.0",
            "_view_count": null,
            "_view_module_version": "1.2.0",
            "bar_color": null,
            "_model_module": "@jupyter-widgets/controls"
          }
        },
        "a8e7a0d5743e421a92d62d385d84f9cc": {
          "model_module": "@jupyter-widgets/base",
          "model_name": "LayoutModel",
          "state": {
            "_view_name": "LayoutView",
            "grid_template_rows": null,
            "right": null,
            "justify_content": null,
            "_view_module": "@jupyter-widgets/base",
            "overflow": null,
            "_model_module_version": "1.2.0",
            "_view_count": null,
            "flex_flow": null,
            "width": null,
            "min_width": null,
            "border": null,
            "align_items": null,
            "bottom": null,
            "_model_module": "@jupyter-widgets/base",
            "top": null,
            "grid_column": null,
            "overflow_y": null,
            "overflow_x": null,
            "grid_auto_flow": null,
            "grid_area": null,
            "grid_template_columns": null,
            "flex": "2",
            "_model_name": "LayoutModel",
            "justify_items": null,
            "grid_row": null,
            "max_height": null,
            "align_content": null,
            "visibility": null,
            "align_self": null,
            "height": null,
            "min_height": null,
            "padding": null,
            "grid_auto_rows": null,
            "grid_gap": null,
            "max_width": null,
            "order": null,
            "_view_module_version": "1.2.0",
            "grid_template_areas": null,
            "object_position": null,
            "object_fit": null,
            "grid_auto_columns": null,
            "margin": null,
            "display": null,
            "left": null
          }
        },
        "5ec8d96cab7e4a25b4abce9d96321b52": {
          "model_module": "@jupyter-widgets/controls",
          "model_name": "DescriptionStyleModel",
          "state": {
            "_view_name": "StyleView",
            "_model_name": "DescriptionStyleModel",
            "description_width": "",
            "_view_module": "@jupyter-widgets/base",
            "_model_module_version": "1.5.0",
            "_view_count": null,
            "_view_module_version": "1.2.0",
            "_model_module": "@jupyter-widgets/controls"
          }
        },
        "7225a91c59e34b94952a80d1a25ea89b": {
          "model_module": "@jupyter-widgets/base",
          "model_name": "LayoutModel",
          "state": {
            "_view_name": "LayoutView",
            "grid_template_rows": null,
            "right": null,
            "justify_content": null,
            "_view_module": "@jupyter-widgets/base",
            "overflow": null,
            "_model_module_version": "1.2.0",
            "_view_count": null,
            "flex_flow": null,
            "width": null,
            "min_width": null,
            "border": null,
            "align_items": null,
            "bottom": null,
            "_model_module": "@jupyter-widgets/base",
            "top": null,
            "grid_column": null,
            "overflow_y": null,
            "overflow_x": null,
            "grid_auto_flow": null,
            "grid_area": null,
            "grid_template_columns": null,
            "flex": null,
            "_model_name": "LayoutModel",
            "justify_items": null,
            "grid_row": null,
            "max_height": null,
            "align_content": null,
            "visibility": null,
            "align_self": null,
            "height": null,
            "min_height": null,
            "padding": null,
            "grid_auto_rows": null,
            "grid_gap": null,
            "max_width": null,
            "order": null,
            "_view_module_version": "1.2.0",
            "grid_template_areas": null,
            "object_position": null,
            "object_fit": null,
            "grid_auto_columns": null,
            "margin": null,
            "display": null,
            "left": null
          }
        },
        "25c56666dc2c41c7bcb830ad0f26d9f7": {
          "model_module": "@jupyter-widgets/controls",
          "model_name": "HBoxModel",
          "state": {
            "_view_name": "HBoxView",
            "_dom_classes": [],
            "_model_name": "HBoxModel",
            "_view_module": "@jupyter-widgets/controls",
            "_model_module_version": "1.5.0",
            "_view_count": null,
            "_view_module_version": "1.5.0",
            "box_style": "",
            "layout": "IPY_MODEL_a1e81ff56df04b7c85816d5a78b6eced",
            "_model_module": "@jupyter-widgets/controls",
            "children": [
              "IPY_MODEL_9dc0157f2bf243258ae8343a2faaa369",
              "IPY_MODEL_b7a74792b80f4cfb92a2b9bf3c9d4137"
            ]
          }
        },
        "a1e81ff56df04b7c85816d5a78b6eced": {
          "model_module": "@jupyter-widgets/base",
          "model_name": "LayoutModel",
          "state": {
            "_view_name": "LayoutView",
            "grid_template_rows": null,
            "right": null,
            "justify_content": null,
            "_view_module": "@jupyter-widgets/base",
            "overflow": null,
            "_model_module_version": "1.2.0",
            "_view_count": null,
            "flex_flow": "row wrap",
            "width": "100%",
            "min_width": null,
            "border": null,
            "align_items": null,
            "bottom": null,
            "_model_module": "@jupyter-widgets/base",
            "top": null,
            "grid_column": null,
            "overflow_y": null,
            "overflow_x": null,
            "grid_auto_flow": null,
            "grid_area": null,
            "grid_template_columns": null,
            "flex": null,
            "_model_name": "LayoutModel",
            "justify_items": null,
            "grid_row": null,
            "max_height": null,
            "align_content": null,
            "visibility": null,
            "align_self": null,
            "height": null,
            "min_height": null,
            "padding": null,
            "grid_auto_rows": null,
            "grid_gap": null,
            "max_width": null,
            "order": null,
            "_view_module_version": "1.2.0",
            "grid_template_areas": null,
            "object_position": null,
            "object_fit": null,
            "grid_auto_columns": null,
            "margin": null,
            "display": "inline-flex",
            "left": null
          }
        },
        "9dc0157f2bf243258ae8343a2faaa369": {
          "model_module": "@jupyter-widgets/controls",
          "model_name": "FloatProgressModel",
          "state": {
            "_view_name": "ProgressView",
            "style": "IPY_MODEL_427f0bf5ce8e41b5b31eaabac453cb9c",
            "_dom_classes": [],
            "description": "Validating: 100%",
            "_model_name": "FloatProgressModel",
            "bar_style": "info",
            "max": 300,
            "_view_module": "@jupyter-widgets/controls",
            "_model_module_version": "1.5.0",
            "value": 300,
            "_view_count": null,
            "_view_module_version": "1.5.0",
            "orientation": "horizontal",
            "min": 0,
            "description_tooltip": null,
            "_model_module": "@jupyter-widgets/controls",
            "layout": "IPY_MODEL_fbbb159e51de4997a7d27c5e8cc0c495"
          }
        },
        "b7a74792b80f4cfb92a2b9bf3c9d4137": {
          "model_module": "@jupyter-widgets/controls",
          "model_name": "HTMLModel",
          "state": {
            "_view_name": "HTMLView",
            "style": "IPY_MODEL_01eac4c0a8e74a45bb0d1f3c43b01483",
            "_dom_classes": [],
            "description": "",
            "_model_name": "HTMLModel",
            "placeholder": "​",
            "_view_module": "@jupyter-widgets/controls",
            "_model_module_version": "1.5.0",
            "value": " 300/300 [00:02&lt;00:00, 128.80it/s]",
            "_view_count": null,
            "_view_module_version": "1.5.0",
            "description_tooltip": null,
            "_model_module": "@jupyter-widgets/controls",
            "layout": "IPY_MODEL_dc74dccf1d564871973b3b6466d08d3b"
          }
        },
        "427f0bf5ce8e41b5b31eaabac453cb9c": {
          "model_module": "@jupyter-widgets/controls",
          "model_name": "ProgressStyleModel",
          "state": {
            "_view_name": "StyleView",
            "_model_name": "ProgressStyleModel",
            "description_width": "initial",
            "_view_module": "@jupyter-widgets/base",
            "_model_module_version": "1.5.0",
            "_view_count": null,
            "_view_module_version": "1.2.0",
            "bar_color": null,
            "_model_module": "@jupyter-widgets/controls"
          }
        },
        "fbbb159e51de4997a7d27c5e8cc0c495": {
          "model_module": "@jupyter-widgets/base",
          "model_name": "LayoutModel",
          "state": {
            "_view_name": "LayoutView",
            "grid_template_rows": null,
            "right": null,
            "justify_content": null,
            "_view_module": "@jupyter-widgets/base",
            "overflow": null,
            "_model_module_version": "1.2.0",
            "_view_count": null,
            "flex_flow": null,
            "width": null,
            "min_width": null,
            "border": null,
            "align_items": null,
            "bottom": null,
            "_model_module": "@jupyter-widgets/base",
            "top": null,
            "grid_column": null,
            "overflow_y": null,
            "overflow_x": null,
            "grid_auto_flow": null,
            "grid_area": null,
            "grid_template_columns": null,
            "flex": "2",
            "_model_name": "LayoutModel",
            "justify_items": null,
            "grid_row": null,
            "max_height": null,
            "align_content": null,
            "visibility": null,
            "align_self": null,
            "height": null,
            "min_height": null,
            "padding": null,
            "grid_auto_rows": null,
            "grid_gap": null,
            "max_width": null,
            "order": null,
            "_view_module_version": "1.2.0",
            "grid_template_areas": null,
            "object_position": null,
            "object_fit": null,
            "grid_auto_columns": null,
            "margin": null,
            "display": null,
            "left": null
          }
        },
        "01eac4c0a8e74a45bb0d1f3c43b01483": {
          "model_module": "@jupyter-widgets/controls",
          "model_name": "DescriptionStyleModel",
          "state": {
            "_view_name": "StyleView",
            "_model_name": "DescriptionStyleModel",
            "description_width": "",
            "_view_module": "@jupyter-widgets/base",
            "_model_module_version": "1.5.0",
            "_view_count": null,
            "_view_module_version": "1.2.0",
            "_model_module": "@jupyter-widgets/controls"
          }
        },
        "dc74dccf1d564871973b3b6466d08d3b": {
          "model_module": "@jupyter-widgets/base",
          "model_name": "LayoutModel",
          "state": {
            "_view_name": "LayoutView",
            "grid_template_rows": null,
            "right": null,
            "justify_content": null,
            "_view_module": "@jupyter-widgets/base",
            "overflow": null,
            "_model_module_version": "1.2.0",
            "_view_count": null,
            "flex_flow": null,
            "width": null,
            "min_width": null,
            "border": null,
            "align_items": null,
            "bottom": null,
            "_model_module": "@jupyter-widgets/base",
            "top": null,
            "grid_column": null,
            "overflow_y": null,
            "overflow_x": null,
            "grid_auto_flow": null,
            "grid_area": null,
            "grid_template_columns": null,
            "flex": null,
            "_model_name": "LayoutModel",
            "justify_items": null,
            "grid_row": null,
            "max_height": null,
            "align_content": null,
            "visibility": null,
            "align_self": null,
            "height": null,
            "min_height": null,
            "padding": null,
            "grid_auto_rows": null,
            "grid_gap": null,
            "max_width": null,
            "order": null,
            "_view_module_version": "1.2.0",
            "grid_template_areas": null,
            "object_position": null,
            "object_fit": null,
            "grid_auto_columns": null,
            "margin": null,
            "display": null,
            "left": null
          }
        },
        "071e916fb3de4ed08ca4fbc210cae772": {
          "model_module": "@jupyter-widgets/controls",
          "model_name": "HBoxModel",
          "state": {
            "_view_name": "HBoxView",
            "_dom_classes": [],
            "_model_name": "HBoxModel",
            "_view_module": "@jupyter-widgets/controls",
            "_model_module_version": "1.5.0",
            "_view_count": null,
            "_view_module_version": "1.5.0",
            "box_style": "",
            "layout": "IPY_MODEL_b924c750a26443cba0fbac4f9e794e09",
            "_model_module": "@jupyter-widgets/controls",
            "children": [
              "IPY_MODEL_1033adff3edd44278ae8ce17f7da5339",
              "IPY_MODEL_8fe765f166814d0794a538fc5205608f"
            ]
          }
        },
        "b924c750a26443cba0fbac4f9e794e09": {
          "model_module": "@jupyter-widgets/base",
          "model_name": "LayoutModel",
          "state": {
            "_view_name": "LayoutView",
            "grid_template_rows": null,
            "right": null,
            "justify_content": null,
            "_view_module": "@jupyter-widgets/base",
            "overflow": null,
            "_model_module_version": "1.2.0",
            "_view_count": null,
            "flex_flow": "row wrap",
            "width": "100%",
            "min_width": null,
            "border": null,
            "align_items": null,
            "bottom": null,
            "_model_module": "@jupyter-widgets/base",
            "top": null,
            "grid_column": null,
            "overflow_y": null,
            "overflow_x": null,
            "grid_auto_flow": null,
            "grid_area": null,
            "grid_template_columns": null,
            "flex": null,
            "_model_name": "LayoutModel",
            "justify_items": null,
            "grid_row": null,
            "max_height": null,
            "align_content": null,
            "visibility": null,
            "align_self": null,
            "height": null,
            "min_height": null,
            "padding": null,
            "grid_auto_rows": null,
            "grid_gap": null,
            "max_width": null,
            "order": null,
            "_view_module_version": "1.2.0",
            "grid_template_areas": null,
            "object_position": null,
            "object_fit": null,
            "grid_auto_columns": null,
            "margin": null,
            "display": "inline-flex",
            "left": null
          }
        },
        "1033adff3edd44278ae8ce17f7da5339": {
          "model_module": "@jupyter-widgets/controls",
          "model_name": "FloatProgressModel",
          "state": {
            "_view_name": "ProgressView",
            "style": "IPY_MODEL_5949fb8aad9749e7b00c54e646666b6f",
            "_dom_classes": [],
            "description": "Validating: 100%",
            "_model_name": "FloatProgressModel",
            "bar_style": "info",
            "max": 300,
            "_view_module": "@jupyter-widgets/controls",
            "_model_module_version": "1.5.0",
            "value": 300,
            "_view_count": null,
            "_view_module_version": "1.5.0",
            "orientation": "horizontal",
            "min": 0,
            "description_tooltip": null,
            "_model_module": "@jupyter-widgets/controls",
            "layout": "IPY_MODEL_0e8393abd2d24a60942e6a9be5cf7b53"
          }
        },
        "8fe765f166814d0794a538fc5205608f": {
          "model_module": "@jupyter-widgets/controls",
          "model_name": "HTMLModel",
          "state": {
            "_view_name": "HTMLView",
            "style": "IPY_MODEL_2775b192ac6a424ab953c0f046e33ce9",
            "_dom_classes": [],
            "description": "",
            "_model_name": "HTMLModel",
            "placeholder": "​",
            "_view_module": "@jupyter-widgets/controls",
            "_model_module_version": "1.5.0",
            "value": " 300/300 [00:02&lt;00:00, 133.79it/s]",
            "_view_count": null,
            "_view_module_version": "1.5.0",
            "description_tooltip": null,
            "_model_module": "@jupyter-widgets/controls",
            "layout": "IPY_MODEL_1bdc27aeeb644cae9e905f2662c1a24d"
          }
        },
        "5949fb8aad9749e7b00c54e646666b6f": {
          "model_module": "@jupyter-widgets/controls",
          "model_name": "ProgressStyleModel",
          "state": {
            "_view_name": "StyleView",
            "_model_name": "ProgressStyleModel",
            "description_width": "initial",
            "_view_module": "@jupyter-widgets/base",
            "_model_module_version": "1.5.0",
            "_view_count": null,
            "_view_module_version": "1.2.0",
            "bar_color": null,
            "_model_module": "@jupyter-widgets/controls"
          }
        },
        "0e8393abd2d24a60942e6a9be5cf7b53": {
          "model_module": "@jupyter-widgets/base",
          "model_name": "LayoutModel",
          "state": {
            "_view_name": "LayoutView",
            "grid_template_rows": null,
            "right": null,
            "justify_content": null,
            "_view_module": "@jupyter-widgets/base",
            "overflow": null,
            "_model_module_version": "1.2.0",
            "_view_count": null,
            "flex_flow": null,
            "width": null,
            "min_width": null,
            "border": null,
            "align_items": null,
            "bottom": null,
            "_model_module": "@jupyter-widgets/base",
            "top": null,
            "grid_column": null,
            "overflow_y": null,
            "overflow_x": null,
            "grid_auto_flow": null,
            "grid_area": null,
            "grid_template_columns": null,
            "flex": "2",
            "_model_name": "LayoutModel",
            "justify_items": null,
            "grid_row": null,
            "max_height": null,
            "align_content": null,
            "visibility": null,
            "align_self": null,
            "height": null,
            "min_height": null,
            "padding": null,
            "grid_auto_rows": null,
            "grid_gap": null,
            "max_width": null,
            "order": null,
            "_view_module_version": "1.2.0",
            "grid_template_areas": null,
            "object_position": null,
            "object_fit": null,
            "grid_auto_columns": null,
            "margin": null,
            "display": null,
            "left": null
          }
        },
        "2775b192ac6a424ab953c0f046e33ce9": {
          "model_module": "@jupyter-widgets/controls",
          "model_name": "DescriptionStyleModel",
          "state": {
            "_view_name": "StyleView",
            "_model_name": "DescriptionStyleModel",
            "description_width": "",
            "_view_module": "@jupyter-widgets/base",
            "_model_module_version": "1.5.0",
            "_view_count": null,
            "_view_module_version": "1.2.0",
            "_model_module": "@jupyter-widgets/controls"
          }
        },
        "1bdc27aeeb644cae9e905f2662c1a24d": {
          "model_module": "@jupyter-widgets/base",
          "model_name": "LayoutModel",
          "state": {
            "_view_name": "LayoutView",
            "grid_template_rows": null,
            "right": null,
            "justify_content": null,
            "_view_module": "@jupyter-widgets/base",
            "overflow": null,
            "_model_module_version": "1.2.0",
            "_view_count": null,
            "flex_flow": null,
            "width": null,
            "min_width": null,
            "border": null,
            "align_items": null,
            "bottom": null,
            "_model_module": "@jupyter-widgets/base",
            "top": null,
            "grid_column": null,
            "overflow_y": null,
            "overflow_x": null,
            "grid_auto_flow": null,
            "grid_area": null,
            "grid_template_columns": null,
            "flex": null,
            "_model_name": "LayoutModel",
            "justify_items": null,
            "grid_row": null,
            "max_height": null,
            "align_content": null,
            "visibility": null,
            "align_self": null,
            "height": null,
            "min_height": null,
            "padding": null,
            "grid_auto_rows": null,
            "grid_gap": null,
            "max_width": null,
            "order": null,
            "_view_module_version": "1.2.0",
            "grid_template_areas": null,
            "object_position": null,
            "object_fit": null,
            "grid_auto_columns": null,
            "margin": null,
            "display": null,
            "left": null
          }
        },
        "20cb2dcf234844d6ab5c421d59ae0460": {
          "model_module": "@jupyter-widgets/controls",
          "model_name": "HBoxModel",
          "state": {
            "_view_name": "HBoxView",
            "_dom_classes": [],
            "_model_name": "HBoxModel",
            "_view_module": "@jupyter-widgets/controls",
            "_model_module_version": "1.5.0",
            "_view_count": null,
            "_view_module_version": "1.5.0",
            "box_style": "",
            "layout": "IPY_MODEL_7e8f90facda3408980c2b6abf0c3c644",
            "_model_module": "@jupyter-widgets/controls",
            "children": [
              "IPY_MODEL_a0835945ac2a401d92bfc02d1dbac2f2",
              "IPY_MODEL_9cf48e95807f4c39b13cb10144d821d6"
            ]
          }
        },
        "7e8f90facda3408980c2b6abf0c3c644": {
          "model_module": "@jupyter-widgets/base",
          "model_name": "LayoutModel",
          "state": {
            "_view_name": "LayoutView",
            "grid_template_rows": null,
            "right": null,
            "justify_content": null,
            "_view_module": "@jupyter-widgets/base",
            "overflow": null,
            "_model_module_version": "1.2.0",
            "_view_count": null,
            "flex_flow": "row wrap",
            "width": "100%",
            "min_width": null,
            "border": null,
            "align_items": null,
            "bottom": null,
            "_model_module": "@jupyter-widgets/base",
            "top": null,
            "grid_column": null,
            "overflow_y": null,
            "overflow_x": null,
            "grid_auto_flow": null,
            "grid_area": null,
            "grid_template_columns": null,
            "flex": null,
            "_model_name": "LayoutModel",
            "justify_items": null,
            "grid_row": null,
            "max_height": null,
            "align_content": null,
            "visibility": null,
            "align_self": null,
            "height": null,
            "min_height": null,
            "padding": null,
            "grid_auto_rows": null,
            "grid_gap": null,
            "max_width": null,
            "order": null,
            "_view_module_version": "1.2.0",
            "grid_template_areas": null,
            "object_position": null,
            "object_fit": null,
            "grid_auto_columns": null,
            "margin": null,
            "display": "inline-flex",
            "left": null
          }
        },
        "a0835945ac2a401d92bfc02d1dbac2f2": {
          "model_module": "@jupyter-widgets/controls",
          "model_name": "FloatProgressModel",
          "state": {
            "_view_name": "ProgressView",
            "style": "IPY_MODEL_0347219cfdc947b2a27c2950a769ed67",
            "_dom_classes": [],
            "description": "Validating: 100%",
            "_model_name": "FloatProgressModel",
            "bar_style": "info",
            "max": 300,
            "_view_module": "@jupyter-widgets/controls",
            "_model_module_version": "1.5.0",
            "value": 300,
            "_view_count": null,
            "_view_module_version": "1.5.0",
            "orientation": "horizontal",
            "min": 0,
            "description_tooltip": null,
            "_model_module": "@jupyter-widgets/controls",
            "layout": "IPY_MODEL_4b28c7cc4d3444b982e36c8d76a1c7ef"
          }
        },
        "9cf48e95807f4c39b13cb10144d821d6": {
          "model_module": "@jupyter-widgets/controls",
          "model_name": "HTMLModel",
          "state": {
            "_view_name": "HTMLView",
            "style": "IPY_MODEL_66e155604e994e27b2b7b2523cdc9f95",
            "_dom_classes": [],
            "description": "",
            "_model_name": "HTMLModel",
            "placeholder": "​",
            "_view_module": "@jupyter-widgets/controls",
            "_model_module_version": "1.5.0",
            "value": " 300/300 [00:02&lt;00:00, 131.09it/s]",
            "_view_count": null,
            "_view_module_version": "1.5.0",
            "description_tooltip": null,
            "_model_module": "@jupyter-widgets/controls",
            "layout": "IPY_MODEL_5682ef08b6c04a42b8c40338283df737"
          }
        },
        "0347219cfdc947b2a27c2950a769ed67": {
          "model_module": "@jupyter-widgets/controls",
          "model_name": "ProgressStyleModel",
          "state": {
            "_view_name": "StyleView",
            "_model_name": "ProgressStyleModel",
            "description_width": "initial",
            "_view_module": "@jupyter-widgets/base",
            "_model_module_version": "1.5.0",
            "_view_count": null,
            "_view_module_version": "1.2.0",
            "bar_color": null,
            "_model_module": "@jupyter-widgets/controls"
          }
        },
        "4b28c7cc4d3444b982e36c8d76a1c7ef": {
          "model_module": "@jupyter-widgets/base",
          "model_name": "LayoutModel",
          "state": {
            "_view_name": "LayoutView",
            "grid_template_rows": null,
            "right": null,
            "justify_content": null,
            "_view_module": "@jupyter-widgets/base",
            "overflow": null,
            "_model_module_version": "1.2.0",
            "_view_count": null,
            "flex_flow": null,
            "width": null,
            "min_width": null,
            "border": null,
            "align_items": null,
            "bottom": null,
            "_model_module": "@jupyter-widgets/base",
            "top": null,
            "grid_column": null,
            "overflow_y": null,
            "overflow_x": null,
            "grid_auto_flow": null,
            "grid_area": null,
            "grid_template_columns": null,
            "flex": "2",
            "_model_name": "LayoutModel",
            "justify_items": null,
            "grid_row": null,
            "max_height": null,
            "align_content": null,
            "visibility": null,
            "align_self": null,
            "height": null,
            "min_height": null,
            "padding": null,
            "grid_auto_rows": null,
            "grid_gap": null,
            "max_width": null,
            "order": null,
            "_view_module_version": "1.2.0",
            "grid_template_areas": null,
            "object_position": null,
            "object_fit": null,
            "grid_auto_columns": null,
            "margin": null,
            "display": null,
            "left": null
          }
        },
        "66e155604e994e27b2b7b2523cdc9f95": {
          "model_module": "@jupyter-widgets/controls",
          "model_name": "DescriptionStyleModel",
          "state": {
            "_view_name": "StyleView",
            "_model_name": "DescriptionStyleModel",
            "description_width": "",
            "_view_module": "@jupyter-widgets/base",
            "_model_module_version": "1.5.0",
            "_view_count": null,
            "_view_module_version": "1.2.0",
            "_model_module": "@jupyter-widgets/controls"
          }
        },
        "5682ef08b6c04a42b8c40338283df737": {
          "model_module": "@jupyter-widgets/base",
          "model_name": "LayoutModel",
          "state": {
            "_view_name": "LayoutView",
            "grid_template_rows": null,
            "right": null,
            "justify_content": null,
            "_view_module": "@jupyter-widgets/base",
            "overflow": null,
            "_model_module_version": "1.2.0",
            "_view_count": null,
            "flex_flow": null,
            "width": null,
            "min_width": null,
            "border": null,
            "align_items": null,
            "bottom": null,
            "_model_module": "@jupyter-widgets/base",
            "top": null,
            "grid_column": null,
            "overflow_y": null,
            "overflow_x": null,
            "grid_auto_flow": null,
            "grid_area": null,
            "grid_template_columns": null,
            "flex": null,
            "_model_name": "LayoutModel",
            "justify_items": null,
            "grid_row": null,
            "max_height": null,
            "align_content": null,
            "visibility": null,
            "align_self": null,
            "height": null,
            "min_height": null,
            "padding": null,
            "grid_auto_rows": null,
            "grid_gap": null,
            "max_width": null,
            "order": null,
            "_view_module_version": "1.2.0",
            "grid_template_areas": null,
            "object_position": null,
            "object_fit": null,
            "grid_auto_columns": null,
            "margin": null,
            "display": null,
            "left": null
          }
        },
        "d6ea8c1d21a4462b8a7018d472743bd0": {
          "model_module": "@jupyter-widgets/controls",
          "model_name": "HBoxModel",
          "state": {
            "_view_name": "HBoxView",
            "_dom_classes": [],
            "_model_name": "HBoxModel",
            "_view_module": "@jupyter-widgets/controls",
            "_model_module_version": "1.5.0",
            "_view_count": null,
            "_view_module_version": "1.5.0",
            "box_style": "",
            "layout": "IPY_MODEL_e488eca9964e4b73b370d702ea8690ec",
            "_model_module": "@jupyter-widgets/controls",
            "children": [
              "IPY_MODEL_0ca4f6fdb3204e74b2dfc84ae1513a39",
              "IPY_MODEL_28d98c53488847e0bbf6b6dc19782ae2"
            ]
          }
        },
        "e488eca9964e4b73b370d702ea8690ec": {
          "model_module": "@jupyter-widgets/base",
          "model_name": "LayoutModel",
          "state": {
            "_view_name": "LayoutView",
            "grid_template_rows": null,
            "right": null,
            "justify_content": null,
            "_view_module": "@jupyter-widgets/base",
            "overflow": null,
            "_model_module_version": "1.2.0",
            "_view_count": null,
            "flex_flow": "row wrap",
            "width": "100%",
            "min_width": null,
            "border": null,
            "align_items": null,
            "bottom": null,
            "_model_module": "@jupyter-widgets/base",
            "top": null,
            "grid_column": null,
            "overflow_y": null,
            "overflow_x": null,
            "grid_auto_flow": null,
            "grid_area": null,
            "grid_template_columns": null,
            "flex": null,
            "_model_name": "LayoutModel",
            "justify_items": null,
            "grid_row": null,
            "max_height": null,
            "align_content": null,
            "visibility": null,
            "align_self": null,
            "height": null,
            "min_height": null,
            "padding": null,
            "grid_auto_rows": null,
            "grid_gap": null,
            "max_width": null,
            "order": null,
            "_view_module_version": "1.2.0",
            "grid_template_areas": null,
            "object_position": null,
            "object_fit": null,
            "grid_auto_columns": null,
            "margin": null,
            "display": "inline-flex",
            "left": null
          }
        },
        "0ca4f6fdb3204e74b2dfc84ae1513a39": {
          "model_module": "@jupyter-widgets/controls",
          "model_name": "FloatProgressModel",
          "state": {
            "_view_name": "ProgressView",
            "style": "IPY_MODEL_4b49c3892ba244dd81366547eeb38025",
            "_dom_classes": [],
            "description": "Validating: 100%",
            "_model_name": "FloatProgressModel",
            "bar_style": "info",
            "max": 300,
            "_view_module": "@jupyter-widgets/controls",
            "_model_module_version": "1.5.0",
            "value": 300,
            "_view_count": null,
            "_view_module_version": "1.5.0",
            "orientation": "horizontal",
            "min": 0,
            "description_tooltip": null,
            "_model_module": "@jupyter-widgets/controls",
            "layout": "IPY_MODEL_fef577aae5d142399b97db9184c5db99"
          }
        },
        "28d98c53488847e0bbf6b6dc19782ae2": {
          "model_module": "@jupyter-widgets/controls",
          "model_name": "HTMLModel",
          "state": {
            "_view_name": "HTMLView",
            "style": "IPY_MODEL_fdd28c662c2842f68cea6ffc5586fa1b",
            "_dom_classes": [],
            "description": "",
            "_model_name": "HTMLModel",
            "placeholder": "​",
            "_view_module": "@jupyter-widgets/controls",
            "_model_module_version": "1.5.0",
            "value": " 300/300 [00:02&lt;00:00, 127.56it/s]",
            "_view_count": null,
            "_view_module_version": "1.5.0",
            "description_tooltip": null,
            "_model_module": "@jupyter-widgets/controls",
            "layout": "IPY_MODEL_3e5eb349ee7542c5be7b94484831e074"
          }
        },
        "4b49c3892ba244dd81366547eeb38025": {
          "model_module": "@jupyter-widgets/controls",
          "model_name": "ProgressStyleModel",
          "state": {
            "_view_name": "StyleView",
            "_model_name": "ProgressStyleModel",
            "description_width": "initial",
            "_view_module": "@jupyter-widgets/base",
            "_model_module_version": "1.5.0",
            "_view_count": null,
            "_view_module_version": "1.2.0",
            "bar_color": null,
            "_model_module": "@jupyter-widgets/controls"
          }
        },
        "fef577aae5d142399b97db9184c5db99": {
          "model_module": "@jupyter-widgets/base",
          "model_name": "LayoutModel",
          "state": {
            "_view_name": "LayoutView",
            "grid_template_rows": null,
            "right": null,
            "justify_content": null,
            "_view_module": "@jupyter-widgets/base",
            "overflow": null,
            "_model_module_version": "1.2.0",
            "_view_count": null,
            "flex_flow": null,
            "width": null,
            "min_width": null,
            "border": null,
            "align_items": null,
            "bottom": null,
            "_model_module": "@jupyter-widgets/base",
            "top": null,
            "grid_column": null,
            "overflow_y": null,
            "overflow_x": null,
            "grid_auto_flow": null,
            "grid_area": null,
            "grid_template_columns": null,
            "flex": "2",
            "_model_name": "LayoutModel",
            "justify_items": null,
            "grid_row": null,
            "max_height": null,
            "align_content": null,
            "visibility": null,
            "align_self": null,
            "height": null,
            "min_height": null,
            "padding": null,
            "grid_auto_rows": null,
            "grid_gap": null,
            "max_width": null,
            "order": null,
            "_view_module_version": "1.2.0",
            "grid_template_areas": null,
            "object_position": null,
            "object_fit": null,
            "grid_auto_columns": null,
            "margin": null,
            "display": null,
            "left": null
          }
        },
        "fdd28c662c2842f68cea6ffc5586fa1b": {
          "model_module": "@jupyter-widgets/controls",
          "model_name": "DescriptionStyleModel",
          "state": {
            "_view_name": "StyleView",
            "_model_name": "DescriptionStyleModel",
            "description_width": "",
            "_view_module": "@jupyter-widgets/base",
            "_model_module_version": "1.5.0",
            "_view_count": null,
            "_view_module_version": "1.2.0",
            "_model_module": "@jupyter-widgets/controls"
          }
        },
        "3e5eb349ee7542c5be7b94484831e074": {
          "model_module": "@jupyter-widgets/base",
          "model_name": "LayoutModel",
          "state": {
            "_view_name": "LayoutView",
            "grid_template_rows": null,
            "right": null,
            "justify_content": null,
            "_view_module": "@jupyter-widgets/base",
            "overflow": null,
            "_model_module_version": "1.2.0",
            "_view_count": null,
            "flex_flow": null,
            "width": null,
            "min_width": null,
            "border": null,
            "align_items": null,
            "bottom": null,
            "_model_module": "@jupyter-widgets/base",
            "top": null,
            "grid_column": null,
            "overflow_y": null,
            "overflow_x": null,
            "grid_auto_flow": null,
            "grid_area": null,
            "grid_template_columns": null,
            "flex": null,
            "_model_name": "LayoutModel",
            "justify_items": null,
            "grid_row": null,
            "max_height": null,
            "align_content": null,
            "visibility": null,
            "align_self": null,
            "height": null,
            "min_height": null,
            "padding": null,
            "grid_auto_rows": null,
            "grid_gap": null,
            "max_width": null,
            "order": null,
            "_view_module_version": "1.2.0",
            "grid_template_areas": null,
            "object_position": null,
            "object_fit": null,
            "grid_auto_columns": null,
            "margin": null,
            "display": null,
            "left": null
          }
        }
      }
    }
  },
  "cells": [
    {
      "cell_type": "markdown",
      "metadata": {
        "id": "view-in-github",
        "colab_type": "text"
      },
      "source": [
        "<a href=\"https://colab.research.google.com/github/satyajitghana/TSAI-DeepNLP-END2.0/blob/main/06_Encoder_Decoder/Tweets_Model.ipynb\" target=\"_parent\"><img src=\"https://colab.research.google.com/assets/colab-badge.svg\" alt=\"Open In Colab\"/></a>"
      ]
    },
    {
      "cell_type": "code",
      "metadata": {
        "colab": {
          "base_uri": "https://localhost:8080/"
        },
        "id": "itpkd81Y_mpV",
        "outputId": "d853aae3-8da0-4ef1-d84f-70df827808a9"
      },
      "source": [
        "! pip install gdown==3.13.0 --quiet\n",
        "! pip install spacy==3.0.6 --quiet\n",
        "! pip install tweet-preprocessor --quiet\n",
        "! pip install pytorch-lightning --quiet\n",
        "! pip install omegaconf --quiet"
      ],
      "execution_count": 1,
      "outputs": [
        {
          "output_type": "stream",
          "text": [
            "  Installing build dependencies ... \u001b[?25l\u001b[?25hdone\n",
            "  Getting requirements to build wheel ... \u001b[?25l\u001b[?25hdone\n",
            "    Preparing wheel metadata ... \u001b[?25l\u001b[?25hdone\n",
            "  Building wheel for gdown (PEP 517) ... \u001b[?25l\u001b[?25hdone\n",
            "\u001b[K     |████████████████████████████████| 12.8MB 239kB/s \n",
            "\u001b[K     |████████████████████████████████| 1.1MB 42.5MB/s \n",
            "\u001b[K     |████████████████████████████████| 9.1MB 45.3MB/s \n",
            "\u001b[K     |████████████████████████████████| 51kB 8.9MB/s \n",
            "\u001b[K     |████████████████████████████████| 460kB 41.5MB/s \n",
            "\u001b[K     |████████████████████████████████| 122kB 55.3MB/s \n",
            "\u001b[?25h  Building wheel for smart-open (setup.py) ... \u001b[?25l\u001b[?25hdone\n",
            "\u001b[K     |████████████████████████████████| 808kB 8.6MB/s \n",
            "\u001b[K     |████████████████████████████████| 10.6MB 49.5MB/s \n",
            "\u001b[K     |████████████████████████████████| 112kB 44.2MB/s \n",
            "\u001b[K     |████████████████████████████████| 645kB 45.4MB/s \n",
            "\u001b[K     |████████████████████████████████| 829kB 48.7MB/s \n",
            "\u001b[K     |████████████████████████████████| 276kB 51.7MB/s \n",
            "\u001b[K     |████████████████████████████████| 1.3MB 46.2MB/s \n",
            "\u001b[K     |████████████████████████████████| 143kB 59.6MB/s \n",
            "\u001b[K     |████████████████████████████████| 296kB 57.1MB/s \n",
            "\u001b[?25h  Building wheel for future (setup.py) ... \u001b[?25l\u001b[?25hdone\n",
            "\u001b[31mERROR: tensorflow 2.5.0 has requirement tensorboard~=2.5, but you'll have tensorboard 2.4.1 which is incompatible.\u001b[0m\n",
            "\u001b[K     |████████████████████████████████| 81kB 5.3MB/s \n",
            "\u001b[K     |████████████████████████████████| 112kB 44.1MB/s \n",
            "\u001b[?25h  Building wheel for antlr4-python3-runtime (setup.py) ... \u001b[?25l\u001b[?25hdone\n"
          ],
          "name": "stdout"
        }
      ]
    },
    {
      "cell_type": "code",
      "metadata": {
        "colab": {
          "base_uri": "https://localhost:8080/"
        },
        "id": "6w483fR-_p3c",
        "outputId": "0b2e0b1a-87ba-4ad4-92b2-7a4c0f63fe9e"
      },
      "source": [
        "! python -m spacy download en_core_web_sm"
      ],
      "execution_count": 2,
      "outputs": [
        {
          "output_type": "stream",
          "text": [
            "2021-06-09 21:45:18.564216: I tensorflow/stream_executor/platform/default/dso_loader.cc:53] Successfully opened dynamic library libcudart.so.11.0\n",
            "Collecting en-core-web-sm==3.0.0\n",
            "\u001b[?25l  Downloading https://github.com/explosion/spacy-models/releases/download/en_core_web_sm-3.0.0/en_core_web_sm-3.0.0-py3-none-any.whl (13.7MB)\n",
            "\u001b[K     |████████████████████████████████| 13.7MB 225kB/s \n",
            "\u001b[?25hRequirement already satisfied: spacy<3.1.0,>=3.0.0 in /usr/local/lib/python3.7/dist-packages (from en-core-web-sm==3.0.0) (3.0.6)\n",
            "Requirement already satisfied: blis<0.8.0,>=0.4.0 in /usr/local/lib/python3.7/dist-packages (from spacy<3.1.0,>=3.0.0->en-core-web-sm==3.0.0) (0.4.1)\n",
            "Requirement already satisfied: typing-extensions<4.0.0.0,>=3.7.4; python_version < \"3.8\" in /usr/local/lib/python3.7/dist-packages (from spacy<3.1.0,>=3.0.0->en-core-web-sm==3.0.0) (3.7.4.3)\n",
            "Requirement already satisfied: thinc<8.1.0,>=8.0.3 in /usr/local/lib/python3.7/dist-packages (from spacy<3.1.0,>=3.0.0->en-core-web-sm==3.0.0) (8.0.3)\n",
            "Requirement already satisfied: packaging>=20.0 in /usr/local/lib/python3.7/dist-packages (from spacy<3.1.0,>=3.0.0->en-core-web-sm==3.0.0) (20.9)\n",
            "Requirement already satisfied: spacy-legacy<3.1.0,>=3.0.4 in /usr/local/lib/python3.7/dist-packages (from spacy<3.1.0,>=3.0.0->en-core-web-sm==3.0.0) (3.0.5)\n",
            "Requirement already satisfied: catalogue<2.1.0,>=2.0.3 in /usr/local/lib/python3.7/dist-packages (from spacy<3.1.0,>=3.0.0->en-core-web-sm==3.0.0) (2.0.4)\n",
            "Requirement already satisfied: wasabi<1.1.0,>=0.8.1 in /usr/local/lib/python3.7/dist-packages (from spacy<3.1.0,>=3.0.0->en-core-web-sm==3.0.0) (0.8.2)\n",
            "Requirement already satisfied: jinja2 in /usr/local/lib/python3.7/dist-packages (from spacy<3.1.0,>=3.0.0->en-core-web-sm==3.0.0) (2.11.3)\n",
            "Requirement already satisfied: cymem<2.1.0,>=2.0.2 in /usr/local/lib/python3.7/dist-packages (from spacy<3.1.0,>=3.0.0->en-core-web-sm==3.0.0) (2.0.5)\n",
            "Requirement already satisfied: requests<3.0.0,>=2.13.0 in /usr/local/lib/python3.7/dist-packages (from spacy<3.1.0,>=3.0.0->en-core-web-sm==3.0.0) (2.23.0)\n",
            "Requirement already satisfied: pathy>=0.3.5 in /usr/local/lib/python3.7/dist-packages (from spacy<3.1.0,>=3.0.0->en-core-web-sm==3.0.0) (0.5.2)\n",
            "Requirement already satisfied: setuptools in /usr/local/lib/python3.7/dist-packages (from spacy<3.1.0,>=3.0.0->en-core-web-sm==3.0.0) (57.0.0)\n",
            "Requirement already satisfied: typer<0.4.0,>=0.3.0 in /usr/local/lib/python3.7/dist-packages (from spacy<3.1.0,>=3.0.0->en-core-web-sm==3.0.0) (0.3.2)\n",
            "Requirement already satisfied: preshed<3.1.0,>=3.0.2 in /usr/local/lib/python3.7/dist-packages (from spacy<3.1.0,>=3.0.0->en-core-web-sm==3.0.0) (3.0.5)\n",
            "Requirement already satisfied: pydantic<1.8.0,>=1.7.1 in /usr/local/lib/python3.7/dist-packages (from spacy<3.1.0,>=3.0.0->en-core-web-sm==3.0.0) (1.7.4)\n",
            "Requirement already satisfied: numpy>=1.15.0 in /usr/local/lib/python3.7/dist-packages (from spacy<3.1.0,>=3.0.0->en-core-web-sm==3.0.0) (1.19.5)\n",
            "Requirement already satisfied: tqdm<5.0.0,>=4.38.0 in /usr/local/lib/python3.7/dist-packages (from spacy<3.1.0,>=3.0.0->en-core-web-sm==3.0.0) (4.41.1)\n",
            "Requirement already satisfied: srsly<3.0.0,>=2.4.1 in /usr/local/lib/python3.7/dist-packages (from spacy<3.1.0,>=3.0.0->en-core-web-sm==3.0.0) (2.4.1)\n",
            "Requirement already satisfied: murmurhash<1.1.0,>=0.28.0 in /usr/local/lib/python3.7/dist-packages (from spacy<3.1.0,>=3.0.0->en-core-web-sm==3.0.0) (1.0.5)\n",
            "Requirement already satisfied: pyparsing>=2.0.2 in /usr/local/lib/python3.7/dist-packages (from packaging>=20.0->spacy<3.1.0,>=3.0.0->en-core-web-sm==3.0.0) (2.4.7)\n",
            "Requirement already satisfied: zipp>=0.5; python_version < \"3.8\" in /usr/local/lib/python3.7/dist-packages (from catalogue<2.1.0,>=2.0.3->spacy<3.1.0,>=3.0.0->en-core-web-sm==3.0.0) (3.4.1)\n",
            "Requirement already satisfied: MarkupSafe>=0.23 in /usr/local/lib/python3.7/dist-packages (from jinja2->spacy<3.1.0,>=3.0.0->en-core-web-sm==3.0.0) (2.0.1)\n",
            "Requirement already satisfied: chardet<4,>=3.0.2 in /usr/local/lib/python3.7/dist-packages (from requests<3.0.0,>=2.13.0->spacy<3.1.0,>=3.0.0->en-core-web-sm==3.0.0) (3.0.4)\n",
            "Requirement already satisfied: idna<3,>=2.5 in /usr/local/lib/python3.7/dist-packages (from requests<3.0.0,>=2.13.0->spacy<3.1.0,>=3.0.0->en-core-web-sm==3.0.0) (2.10)\n",
            "Requirement already satisfied: certifi>=2017.4.17 in /usr/local/lib/python3.7/dist-packages (from requests<3.0.0,>=2.13.0->spacy<3.1.0,>=3.0.0->en-core-web-sm==3.0.0) (2020.12.5)\n",
            "Requirement already satisfied: urllib3!=1.25.0,!=1.25.1,<1.26,>=1.21.1 in /usr/local/lib/python3.7/dist-packages (from requests<3.0.0,>=2.13.0->spacy<3.1.0,>=3.0.0->en-core-web-sm==3.0.0) (1.24.3)\n",
            "Requirement already satisfied: smart-open<4.0.0,>=2.2.0 in /usr/local/lib/python3.7/dist-packages (from pathy>=0.3.5->spacy<3.1.0,>=3.0.0->en-core-web-sm==3.0.0) (3.0.0)\n",
            "Requirement already satisfied: click<7.2.0,>=7.1.1 in /usr/local/lib/python3.7/dist-packages (from typer<0.4.0,>=0.3.0->spacy<3.1.0,>=3.0.0->en-core-web-sm==3.0.0) (7.1.2)\n",
            "Installing collected packages: en-core-web-sm\n",
            "  Found existing installation: en-core-web-sm 2.2.5\n",
            "    Uninstalling en-core-web-sm-2.2.5:\n",
            "      Successfully uninstalled en-core-web-sm-2.2.5\n",
            "Successfully installed en-core-web-sm-3.0.0\n",
            "\u001b[38;5;2m✔ Download and installation successful\u001b[0m\n",
            "You can now load the package via spacy.load('en_core_web_sm')\n"
          ],
          "name": "stdout"
        }
      ]
    },
    {
      "cell_type": "code",
      "metadata": {
        "id": "LV_W_sch_tos"
      },
      "source": [
        "import torch\n",
        "import torchtext\n",
        "import gdown\n",
        "\n",
        "import pytorch_lightning as pl\n",
        "from pytorch_lightning.metrics.functional import accuracy\n",
        "\n",
        "from torch.utils.data import Dataset, DataLoader, random_split\n",
        "from torch import nn\n",
        "from torch.nn import functional as F\n",
        "import torch.optim as optim\n",
        "\n",
        "from torchtext.utils import download_from_url, extract_archive\n",
        "from torchtext.data.utils import get_tokenizer\n",
        "from torchtext.vocab import build_vocab_from_iterator\n",
        "\n",
        "import torchtext.experimental.functional as text_f\n",
        "\n",
        "import torchtext.experimental.functional as text_f\n",
        "\n",
        "from pathlib import Path\n",
        "from functools import partial\n",
        "\n",
        "import pandas as pd\n",
        "import preprocessor as p\n",
        "\n",
        "import numpy as np\n",
        "import matplotlib.pyplot as plt\n",
        "import seaborn as sns\n",
        "\n",
        "from typing import *\n",
        "\n",
        "import random\n",
        "\n",
        "from tqdm.auto import tqdm\n",
        "from omegaconf import OmegaConf\n",
        "\n",
        "from IPython.display import display, HTML\n",
        "\n",
        "sns.set()"
      ],
      "execution_count": 3,
      "outputs": []
    },
    {
      "cell_type": "code",
      "metadata": {
        "id": "Ns5COjzA_xbE"
      },
      "source": [
        "class TweetsDataset(Dataset):\n",
        "    \"\"\"\n",
        "    \"\"\"\n",
        "\n",
        "    URL = 'https://drive.google.com/uc?id=1gCEb9iRVYet15O4Tqvrj9Fjq9lVbSEQg'\n",
        "    OUTPUT = 'tweets_cleaned.csv'\n",
        " \n",
        "\n",
        "    def __init__(self, root, vocab=None, vectors=None, text_transforms=None, label_transforms=None, ngrams=1):\n",
        "        \"\"\"Initiate text-classification dataset.\n",
        "        Args:\n",
        "            vocab: Vocabulary object used for dataset.\n",
        "        \"\"\"\n",
        "\n",
        "        super(self.__class__, self).__init__()\n",
        "\n",
        "        # if split not in ['train', 'test']:\n",
        "        #     raise ValueError(f'split must be either [\"train\", \"test\"] unknown split {split}')\n",
        "\n",
        "        if vocab and vectors:\n",
        "            raise ValueError(f'both vocab and vectors cannot be provided')\n",
        "\n",
        "        self.vocab = vocab\n",
        "        self.vectors = vectors\n",
        "\n",
        "        gdown.cached_download(self.URL, Path(root) / self.OUTPUT)\n",
        "\n",
        "        self.generate_tweet_dataset(Path(root) / self.OUTPUT)\n",
        "\n",
        "        tokenizer = get_tokenizer(\"spacy\", language=\"en_core_web_sm\")\n",
        "\n",
        "        # the text transform can only work at the sentence level\n",
        "        # the rest of tokenization and vocab is done by this class\n",
        "        self.text_transform = text_f.sequential_transforms(tokenizer, text_f.ngrams_func(ngrams))\n",
        "        self.tokenizer_transform = self.text_transform\n",
        "\n",
        "        self.vocab_transforms = text_f.sequential_transforms()\n",
        "        self.vector_transforms = text_f.sequential_transforms()\n",
        "\n",
        "        def build_vocab(data, transforms):\n",
        "            def apply_transforms(data):\n",
        "                for line in data:\n",
        "                    yield transforms(line)\n",
        "            return build_vocab_from_iterator(apply_transforms(data), len(data))\n",
        "\n",
        "        if self.vectors:\n",
        "            self.vector_transforms = text_f.sequential_transforms(\n",
        "                partial(vectors.get_vecs_by_tokens, lower_case_backup=True)\n",
        "            )\n",
        "        elif self.vocab is None:\n",
        "            # vocab is always built on the train dataset\n",
        "            self.vocab = build_vocab(self.dataset[\"tweets_cleaned\"], self.text_transform)\n",
        "    \n",
        "        if self.vocab:\n",
        "            self.vocab_transforms = text_f.sequential_transforms(\n",
        "                text_f.vocab_func(self.vocab), text_f.totensor(dtype=torch.long)\n",
        "            )\n",
        "\n",
        "        if text_transforms is not None:\n",
        "            self.text_transform = text_f.sequential_transforms(\n",
        "                self.text_transform, text_transforms, self.vocab_transforms, self.vector_transforms \n",
        "            )\n",
        "        else:\n",
        "            self.text_transform = text_f.sequential_transforms(\n",
        "                self.text_transform, self.vocab_transforms, self.vector_transforms\n",
        "            )\n",
        "\n",
        "        self.label_transform = text_f.sequential_transforms(text_f.totensor(dtype=torch.long))\n",
        "\n",
        "    def generate_tweet_dataset(self, dataset_file):\n",
        "        self.dataset = pd.read_csv(dataset_file)\n",
        "\n",
        "    def __getitem__(self, idx):\n",
        "        text = self.text_transform(self.dataset['tweets_cleaned'].iloc[idx])\n",
        "        label = self.label_transform(self.dataset['labels'].iloc[idx])\n",
        "        return label, text, (self.dataset['tweets'].iloc[idx], self.dataset['tweets_cleaned'].iloc[idx])\n",
        "\n",
        "    def __len__(self):\n",
        "        return len(self.dataset)\n",
        "\n",
        "    @staticmethod\n",
        "    def get_labels():\n",
        "        return ['Negative', 'Positive', 'Neutral']\n",
        "\n",
        "    def get_vocab(self):\n",
        "        return self.vocab\n",
        "\n",
        "    def get_vectors(self):\n",
        "        return self.vectors\n",
        "\n",
        "    def collator_fn(self, raw_texts=False):\n",
        "        def collate_fn(batch):\n",
        "            \n",
        "            labels, sequences, raw_texts = zip(*batch)\n",
        "\n",
        "            labels = torch.stack(labels)\n",
        "\n",
        "            lengths = torch.LongTensor([len(sequence) for sequence in sequences])\n",
        "\n",
        "            # print('before padding: ', sequences[40])\n",
        "\n",
        "            if not self.vectors:\n",
        "                pad_idx = self.get_vocab()['<pad>']\n",
        "                sequences = torch.nn.utils.rnn.pad_sequence(sequences, \n",
        "                                                            padding_value = pad_idx,\n",
        "                                                            batch_first=True\n",
        "                                                            )\n",
        "            # print('after padding: ', sequences[40])\n",
        "            if raw_texts:\n",
        "                return labels, sequences, lengths, raw_texts\n",
        "            else:\n",
        "                return labels, sequences, lengths\n",
        "        \n",
        "        return collate_fn"
      ],
      "execution_count": 4,
      "outputs": []
    },
    {
      "cell_type": "code",
      "metadata": {
        "id": "UQrgB_ak_0Sk"
      },
      "source": [
        "class TweetsDataModule(pl.LightningDataModule):\n",
        "    \"\"\"\n",
        "    DataModule for Tweets, train, val, test splits and transforms\n",
        "    \"\"\"\n",
        "\n",
        "    name = \"tweets\"\n",
        "\n",
        "    def __init__(\n",
        "        self,\n",
        "        data_dir: str = '.',\n",
        "        val_split: int = 300,\n",
        "        num_workers: int = 2,\n",
        "        batch_size: int = 128,\n",
        "        *args,\n",
        "        **kwargs,\n",
        "    ):\n",
        "        \"\"\"\n",
        "        Args:\n",
        "            data_dir: where to save/load the data\n",
        "            val_split: how many of the training images to use for the validation split\n",
        "            num_workers: how many workers to use for loading data\n",
        "            normalize: If true applies image normalize\n",
        "            batch_size: desired batch size.\n",
        "        \"\"\"\n",
        "        super().__init__(*args, **kwargs)\n",
        "\n",
        "        self.data_dir = data_dir\n",
        "        self.val_split = val_split\n",
        "        self.num_workers = num_workers\n",
        "        self.batch_size = batch_size\n",
        "\n",
        "        self.dataset_train = ...\n",
        "        self.dataset_val = ...\n",
        "        self.dataset_test = ...\n",
        "        self.vectors = ...\n",
        "\n",
        "        self.Dataset = TweetsDataset\n",
        "\n",
        "    def prepare_data(self):\n",
        "        \"\"\"Saves IMDB files to `data_dir`\"\"\"\n",
        "        self.Dataset(self.data_dir)\n",
        "\n",
        "    def setup(self, stage: Optional[str] = None):\n",
        "        \"\"\"Split the train and valid dataset\"\"\"\n",
        "        \n",
        "        self.vectors = torchtext.vocab.GloVe(\"6B\")\n",
        "\n",
        "        self._dataset = self.Dataset(self.data_dir, vectors=self.vectors)\n",
        "\n",
        "        train_size = len(self._dataset) - self.val_split\n",
        "        test_size = self.val_split\n",
        "        train_dataset, test_dataset = torch.utils.data.random_split(self._dataset, [train_size, test_size])\n",
        "        \n",
        "        self.dataset_train = train_dataset\n",
        "        self.dataset_test = test_dataset\n",
        "\n",
        "    def train_dataloader(self):\n",
        "        loader = DataLoader(\n",
        "            self.dataset_train,\n",
        "            batch_size=self.batch_size,\n",
        "            shuffle=True,\n",
        "            num_workers=self.num_workers,\n",
        "            pin_memory=True,\n",
        "            collate_fn=self.collator_fn\n",
        "        )\n",
        "        return loader\n",
        "\n",
        "    def val_dataloader(self):\n",
        "        loader = DataLoader(\n",
        "            self.dataset_test,\n",
        "            batch_size=self.batch_size,\n",
        "            shuffle=False,\n",
        "            num_workers=self.num_workers,\n",
        "            pin_memory=True,\n",
        "            collate_fn=self.collator_fn\n",
        "        )\n",
        "        return loader\n",
        "\n",
        "    def test_dataloader(self):\n",
        "        loader = DataLoader(\n",
        "            self.dataset_test,\n",
        "            batch_size=self.batch_size,\n",
        "            shuffle=False,\n",
        "            num_workers=self.num_workers,\n",
        "            pin_memory=True,\n",
        "            collate_fn=self.collator_fn\n",
        "        )\n",
        "        return loader\n",
        "\n",
        "    def get_vocab(self):\n",
        "        return self._dataset.get_vocab()\n",
        "    \n",
        "    def get_vectors(self):\n",
        "        return self._dataset.get_vectors()\n",
        "    \n",
        "    def get_labels(self):\n",
        "        return self._dataset.get_labels()\n",
        "\n",
        "    @property\n",
        "    def default_transforms(self):\n",
        "        train_transforms = {\n",
        "            'text_transforms': text_f.sequential_transforms(\n",
        "                random_deletion,\n",
        "                random_swap\n",
        "            ),\n",
        "            'label_transforms': None\n",
        "        }\n",
        "        test_transforms = {\n",
        "            'text_transforms': None,\n",
        "            'label_transforms': None\n",
        "        }\n",
        "\n",
        "        return train_transforms, test_transforms\n",
        "\n",
        "    @property\n",
        "    def collator_fn(self):\n",
        "        return self._dataset.collator_fn(raw_texts=True)"
      ],
      "execution_count": 5,
      "outputs": []
    },
    {
      "cell_type": "code",
      "metadata": {
        "colab": {
          "base_uri": "https://localhost:8080/"
        },
        "id": "Cje5uz1I_2t8",
        "outputId": "c2d3dfe3-a32c-4379-9328-9a9ad650b522"
      },
      "source": [
        "tweet_dataset = TweetsDataModule(batch_size=1, val_split=300)\n",
        "tweet_dataset.setup()"
      ],
      "execution_count": 6,
      "outputs": [
        {
          "output_type": "stream",
          "text": [
            ".vector_cache/glove.6B.zip: 862MB [02:39, 5.40MB/s]\n",
            "100%|█████████▉| 399157/400000 [00:34<00:00, 11340.73it/s]Cached Downloading: tweets_cleaned.csv\n",
            "Downloading...\n",
            "From: https://drive.google.com/uc?id=1gCEb9iRVYet15O4Tqvrj9Fjq9lVbSEQg\n",
            "To: /root/.cache/gdown/tmpzgod843w/dl\n",
            "\n",
            "100%|██████████| 286k/286k [00:00<00:00, 7.56MB/s]\n"
          ],
          "name": "stderr"
        }
      ]
    },
    {
      "cell_type": "code",
      "metadata": {
        "colab": {
          "base_uri": "https://localhost:8080/"
        },
        "id": "KcecAJ_snVch",
        "outputId": "87842f43-25d9-437f-b71c-fd730e8f27d4"
      },
      "source": [
        "tweet_dataset.get_labels()"
      ],
      "execution_count": 7,
      "outputs": [
        {
          "output_type": "execute_result",
          "data": {
            "text/plain": [
              "['Negative', 'Positive', 'Neutral']"
            ]
          },
          "metadata": {
            "tags": []
          },
          "execution_count": 7
        }
      ]
    },
    {
      "cell_type": "code",
      "metadata": {
        "colab": {
          "base_uri": "https://localhost:8080/"
        },
        "id": "dEZE2bLATEXJ",
        "outputId": "28050ecb-aae8-4373-b513-3bc703359321"
      },
      "source": [
        "tweet_dataset.get_vectors().dim"
      ],
      "execution_count": 8,
      "outputs": [
        {
          "output_type": "execute_result",
          "data": {
            "text/plain": [
              "300"
            ]
          },
          "metadata": {
            "tags": []
          },
          "execution_count": 8
        }
      ]
    },
    {
      "cell_type": "code",
      "metadata": {
        "id": "C5841C_8_5Uk"
      },
      "source": [
        "train_loader = tweet_dataset.train_dataloader()\n",
        "test_loader = tweet_dataset.test_dataloader()"
      ],
      "execution_count": 9,
      "outputs": []
    },
    {
      "cell_type": "code",
      "metadata": {
        "colab": {
          "base_uri": "https://localhost:8080/"
        },
        "id": "_jUhx9iKZg80",
        "outputId": "64d85ebe-6c1a-499d-e222-f7f8edf1c5cb"
      },
      "source": [
        "len(train_loader), len(test_loader)"
      ],
      "execution_count": 10,
      "outputs": [
        {
          "output_type": "execute_result",
          "data": {
            "text/plain": [
              "(1051, 300)"
            ]
          },
          "metadata": {
            "tags": []
          },
          "execution_count": 10
        }
      ]
    },
    {
      "cell_type": "code",
      "metadata": {
        "colab": {
          "base_uri": "https://localhost:8080/"
        },
        "id": "BsgVgMn7ZsNe",
        "outputId": "9d795662-cdde-4344-c5ac-18591b50af5a"
      },
      "source": [
        "len(tweet_dataset.dataset_train), len(tweet_dataset.dataset_test)"
      ],
      "execution_count": 11,
      "outputs": [
        {
          "output_type": "execute_result",
          "data": {
            "text/plain": [
              "(1051, 300)"
            ]
          },
          "metadata": {
            "tags": []
          },
          "execution_count": 11
        }
      ]
    },
    {
      "cell_type": "code",
      "metadata": {
        "colab": {
          "base_uri": "https://localhost:8080/"
        },
        "id": "CVjkHQ-K_9_N",
        "outputId": "1fb11643-85b2-47e9-fa17-d7743d119109"
      },
      "source": [
        "labels, sequences, lengths, raw_text = next(iter(train_loader))"
      ],
      "execution_count": 12,
      "outputs": [
        {
          "output_type": "stream",
          "text": [
            "\r100%|█████████▉| 399157/400000 [00:50<00:00, 11340.73it/s]"
          ],
          "name": "stderr"
        }
      ]
    },
    {
      "cell_type": "code",
      "metadata": {
        "colab": {
          "base_uri": "https://localhost:8080/",
          "height": 35
        },
        "id": "zQPALfU_qiM-",
        "outputId": "e1df2c90-28a7-4ce2-d9f5-0332daad9554"
      },
      "source": [
        "raw_text[0][0]"
      ],
      "execution_count": 13,
      "outputs": [
        {
          "output_type": "execute_result",
          "data": {
            "application/vnd.google.colaboratory.intrinsic+json": {
              "type": "string"
            },
            "text/plain": [
              "'RT @ohgirlphrase: American kid \"You\\'re from the UK? Ohhh cool, So do you have tea with the Queen?\". British kid: \"Do you like, go to Mcdonalds with Obama?'"
            ]
          },
          "metadata": {
            "tags": []
          },
          "execution_count": 13
        }
      ]
    },
    {
      "cell_type": "code",
      "metadata": {
        "colab": {
          "base_uri": "https://localhost:8080/",
          "height": 35
        },
        "id": "QqXSb5kHqDk-",
        "outputId": "e69f71fa-d299-43f0-ec8c-406490421add"
      },
      "source": [
        "' '.join(tweet_dataset._dataset.tokenizer_transform(raw_text[0][1]))"
      ],
      "execution_count": 14,
      "outputs": [
        {
          "output_type": "execute_result",
          "data": {
            "application/vnd.google.colaboratory.intrinsic+json": {
              "type": "string"
            },
            "text/plain": [
              "'  American kid \" You \\'re from the UK ? Ohhh cool , So do you have tea with the Queen ? \" . British kid \" Do you like , go to Mcdonalds with Obama ?'"
            ]
          },
          "metadata": {
            "tags": []
          },
          "execution_count": 14
        }
      ]
    },
    {
      "cell_type": "code",
      "metadata": {
        "id": "v2mKwdeRwhd1"
      },
      "source": [
        "class Encoder(nn.Module):\n",
        "    def __init__(self, input_dim=300, hidden_dim=16, proj_dim=64):\n",
        "        super(self.__class__, self).__init__()\n",
        "\n",
        "        self.input_dim = input_dim\n",
        "        self.hidden_dim = hidden_dim\n",
        "        self.proj_dim = proj_dim\n",
        "\n",
        "        self.encode_lstm = nn.LSTMCell(self.input_dim, self.hidden_dim, bias=False)\n",
        "        self.encoder_proj = nn.Linear(self.hidden_dim, self.proj_dim, bias=False)\n",
        "\n",
        "    def init_hidden(self, device, batch_size):\n",
        "        zeros = torch.zeros(batch_size, self.hidden_dim, device=device)\n",
        "        return (zeros, zeros)\n",
        "    \n",
        "    def forward(self, sequences, lengths, hidden_state, debug=False):\n",
        "        (hh, cc) = hidden_state\n",
        "\n",
        "        for idx in range(lengths[0]):\n",
        "            (hh, cc) = self.encode_lstm(sequences[0][idx].unsqueeze(0), (hh, cc))\n",
        "            # print(hx[0][0].numpy())\n",
        "            if debug:\n",
        "                sns.heatmap(hh[0].detach().numpy().reshape(-1, 4), fmt=\".2f\", vmin=-1, vmax=1, annot=True, cmap=\"YlGnBu\").set(title=f\"Encoder Hidden State, step={idx}\")\n",
        "                plt.show()\n",
        "\n",
        "        encoder_sv = self.encoder_proj(hh)\n",
        "\n",
        "        if debug:\n",
        "            sns.heatmap(encoder_sv[0].detach().numpy().reshape(-1, 1), fmt=\".2f\", vmin=-1, vmax=1, annot=True, cmap=\"YlGnBu\").set(title=f\"Encoder Single Vector\")\n",
        "            plt.show()\n",
        "\n",
        "        return encoder_sv, (hh, cc)"
      ],
      "execution_count": 32,
      "outputs": []
    },
    {
      "cell_type": "code",
      "metadata": {
        "id": "YuQOYVquyHpe"
      },
      "source": [
        "class Decoder(nn.Module):\n",
        "    def __init__(self, input_dim=64, hidden_dim=16, proj_dim=64):\n",
        "        super(self.__class__, self).__init__()\n",
        "\n",
        "        self.input_dim = input_dim\n",
        "        self.hidden_dim = hidden_dim\n",
        "        self.proj_dim = proj_dim\n",
        "\n",
        "        self.decode_lstm = nn.LSTMCell(self.input_dim, self.hidden_dim, bias=False)\n",
        "        self.decoder_proj = nn.Linear(self.hidden_dim, self.proj_dim, bias=False)\n",
        "\n",
        "    def forward(self, encoder_inp, hidden_state, max_steps=5, debug=False):\n",
        "        (hh, cc) = hidden_state\n",
        "\n",
        "        for idx in range(max_steps):\n",
        "            (hh, cc) = self.decode_lstm(encoder_inp, (hh, cc))\n",
        "            if debug:\n",
        "                sns.heatmap(hh[0].detach().numpy().reshape(-1, 4), fmt=\".2f\", vmin=-1, vmax=1, annot=True, cmap=\"YlGnBu\").set(title=f\"Decoder Hidden State, step={idx}\")\n",
        "                plt.show()\n",
        "\n",
        "        decoder_sv = self.decoder_proj(hh)\n",
        "        if debug:\n",
        "            sns.heatmap(decoder_sv[0].detach().numpy().reshape(-1, 1), fmt=\".2f\", vmin=-1, vmax=1, annot=True, cmap=\"YlGnBu\").set(title=f\"Decoder Single Vector\")\n",
        "            plt.show()\n",
        "\n",
        "        return decoder_sv"
      ],
      "execution_count": 33,
      "outputs": []
    },
    {
      "cell_type": "code",
      "metadata": {
        "id": "t9hqdplFRYVU"
      },
      "source": [
        "class TweetModel(pl.LightningModule):\n",
        "\n",
        "    def __init__(self, hparams, *args, **kwargs):\n",
        "        super().__init__()\n",
        "\n",
        "        self.save_hyperparameters(hparams)\n",
        "\n",
        "        self.num_classes = self.hparams.output_dim\n",
        "\n",
        "        self.encoder = Encoder(\n",
        "            input_dim=self.hparams.embedding_dim,\n",
        "            hidden_dim=self.hparams.encoder_hdim,\n",
        "            proj_dim=self.hparams.proj_dim\n",
        "        )\n",
        "\n",
        "        self.decoder = Decoder(\n",
        "            input_dim=self.hparams.proj_dim,\n",
        "            hidden_dim=self.hparams.decoder_hdim,\n",
        "            proj_dim=self.hparams.proj_dim\n",
        "        )\n",
        "\n",
        "        self.final_proj = nn.Linear(self.hparams.proj_dim, self.num_classes, bias=False)\n",
        "\n",
        "        self.loss = nn.CrossEntropyLoss()\n",
        "\n",
        "    def forward(self, sequences, lengths, debug=False):\n",
        "        (hh, cc)  = self.encoder.init_hidden(device=self.device, batch_size=len(sequences))\n",
        "\n",
        "        if debug:\n",
        "            display(HTML(f'<h2>DEBUG Encoder</h2>'))\n",
        "        encoder_sv, (hh, cc) = self.encoder(sequences, lengths, (hh, cc), debug=debug)\n",
        "        if debug:\n",
        "            display(HTML(f'<h2>DEBUG Decoder</h2>'))\n",
        "        decoder_sv = self.decoder(encoder_sv, (hh, cc), max_steps=self.hparams.decoder_maxsteps, debug=debug)\n",
        "\n",
        "        output = self.final_proj(decoder_sv)\n",
        "\n",
        "        if debug:\n",
        "            display(HTML(f'<h2>DEBUG Output</h2>'))\n",
        "            sns.heatmap(output[0].detach().numpy().reshape(-1, 1), fmt=\".2f\", vmin=-1, vmax=1, annot=True, cmap=\"YlGnBu\").set(title=f\"Output\")\n",
        "            plt.show()\n",
        "\n",
        "        return output\n",
        "\n",
        "\n",
        "    def shared_step(self, batch, batch_idx):\n",
        "        labels, sequences, lengths, raw_text = batch\n",
        "\n",
        "        logits = self(sequences, lengths)\n",
        "        \n",
        "        loss = self.loss(logits, labels)\n",
        "\n",
        "        pred = torch.argmax(F.log_softmax(logits, dim=1), dim=1)\n",
        "        acc = accuracy(pred, labels)\n",
        "\n",
        "        metric = {'loss': loss, 'acc': acc} \n",
        "        \n",
        "        return metric\n",
        "\n",
        "\n",
        "    def training_step(self, batch, batch_idx):\n",
        "        metrics = self.shared_step(batch, batch_idx)\n",
        "\n",
        "        return metrics\n",
        "\n",
        "    def training_epoch_end(self, outputs):\n",
        "        acc = torch.stack([x['acc'] for x in outputs]).mean()\n",
        "        loss = torch.stack([x['loss'] for x in outputs]).mean()\n",
        "\n",
        "        log_metrics = {'train_loss': loss, 'train_acc': acc}\n",
        "\n",
        "        self.log_dict(log_metrics, prog_bar=True)\n",
        "\n",
        "\n",
        "    def validation_step(self, batch, batch_idx):\n",
        "        metrics = self.shared_step(batch, batch_idx)\n",
        "\n",
        "        return metrics\n",
        "    \n",
        "\n",
        "    def validation_epoch_end(self, outputs):\n",
        "        acc = torch.stack([x['acc'] for x in outputs]).mean()\n",
        "        loss = torch.stack([x['loss'] for x in outputs]).mean()\n",
        "\n",
        "        log_metrics = {'val_loss': loss, 'val_acc': acc}\n",
        "\n",
        "        print(f'Epoch: {self.current_epoch}, Test Acc: {acc}, Test Loss: {loss}')\n",
        "\n",
        "        self.log_dict(log_metrics, prog_bar=True)\n",
        "\n",
        "        return log_metrics\n",
        "\n",
        "\n",
        "    def test_step(self, batch, batch_idx):\n",
        "        return self.validation_step(batch, batch_idx)\n",
        "\n",
        "    def test_epoch_end(self, outputs):\n",
        "        accuracy = torch.stack([x['acc'] for x in outputs]).mean()\n",
        "\n",
        "        self.log('hp_metric', accuracy)\n",
        "\n",
        "        self.log_dict({'test_acc': accuracy}, prog_bar=True)\n",
        "\n",
        "\n",
        "    def configure_optimizers(self):\n",
        "        optimizer = torch.optim.Adam(self.parameters(), lr=self.hparams.lr)\n",
        "        lr_scheduler = {\n",
        "            'scheduler': torch.optim.lr_scheduler.ReduceLROnPlateau(optimizer, patience=10, verbose=True),\n",
        "            'monitor': 'train_loss',\n",
        "            'name': 'scheduler'\n",
        "        }\n",
        "        return [optimizer], [lr_scheduler]\n"
      ],
      "execution_count": 34,
      "outputs": []
    },
    {
      "cell_type": "code",
      "metadata": {
        "id": "fQWRBnk6TARS"
      },
      "source": [
        "hparams = OmegaConf.create({\n",
        "    'embedding_dim': tweet_dataset.get_vectors().dim,\n",
        "    'encoder_hdim': 16,\n",
        "    'decoder_hdim': 16,\n",
        "    'proj_dim': 16,\n",
        "    'decoder_maxsteps': 5,\n",
        "    'dropout': 0.5,\n",
        "    'output_dim': len(tweet_dataset._dataset.get_labels()),\n",
        "    'lr': 5e-4,\n",
        "    'epochs': 5,\n",
        "    'use_lr_finder': False\n",
        "})"
      ],
      "execution_count": 49,
      "outputs": []
    },
    {
      "cell_type": "code",
      "metadata": {
        "id": "zBWJBLr3XWZU"
      },
      "source": [
        "tweet_model = TweetModel(hparams=hparams)"
      ],
      "execution_count": 50,
      "outputs": []
    },
    {
      "cell_type": "code",
      "metadata": {
        "id": "rB1GJZ9vXez8"
      },
      "source": [
        "output = tweet_model(sequences, lengths)"
      ],
      "execution_count": 51,
      "outputs": []
    },
    {
      "cell_type": "code",
      "metadata": {
        "colab": {
          "base_uri": "https://localhost:8080/"
        },
        "id": "3m-lxM-4Xvz7",
        "outputId": "0a169620-7b78-44bf-c95f-ccdbfcfb7056"
      },
      "source": [
        "output.shape"
      ],
      "execution_count": 52,
      "outputs": [
        {
          "output_type": "execute_result",
          "data": {
            "text/plain": [
              "torch.Size([1, 3])"
            ]
          },
          "metadata": {
            "tags": []
          },
          "execution_count": 52
        }
      ]
    },
    {
      "cell_type": "code",
      "metadata": {
        "id": "WP40BsiiX0G_"
      },
      "source": [
        "from pytorch_lightning.callbacks import ModelCheckpoint, LearningRateMonitor\n",
        "checkpoint_callback = ModelCheckpoint(\n",
        "    monitor='val_loss',\n",
        "    save_top_k=3,\n",
        "    mode='min'\n",
        ")\n",
        "lr_monitor = LearningRateMonitor(logging_interval='step')"
      ],
      "execution_count": 53,
      "outputs": []
    },
    {
      "cell_type": "code",
      "metadata": {
        "colab": {
          "base_uri": "https://localhost:8080/"
        },
        "id": "Us1C5tQ5X24_",
        "outputId": "f71014ab-cb5a-49ad-ba10-efa872d8d92a"
      },
      "source": [
        "trainer = pl.Trainer(gpus=1, max_epochs=hparams.epochs, callbacks=[lr_monitor, checkpoint_callback], progress_bar_refresh_rate=1, reload_dataloaders_every_epoch=False)"
      ],
      "execution_count": 54,
      "outputs": [
        {
          "output_type": "stream",
          "text": [
            "GPU available: True, used: True\n",
            "TPU available: False, using: 0 TPU cores\n"
          ],
          "name": "stderr"
        }
      ]
    },
    {
      "cell_type": "code",
      "metadata": {
        "colab": {
          "base_uri": "https://localhost:8080/",
          "height": 385,
          "referenced_widgets": [
            "cd1679c357624d68a2991338ffd2a424",
            "9a08fe4066b6473681a67e3245d74c2e",
            "84da8a16a3b84b36b93876b18c77b487",
            "14f7f6964dee42038b3d96b0f4cc9d62",
            "83f7103de91545a2b182b3eda36d57c1",
            "eda537e58f214c3bbca13c3e07eeeec2",
            "dbf31e2b31644386a45d5e0fbbb3744b",
            "0ca86f9f833945f0ac39c24b58da0156",
            "beac20c58d3c410c961d1d1b26aed294",
            "42bd227226e94ca39eaf0862a9d2f6a4",
            "95a8b1e43dfb4d3e9b1a4d9608ea8afd",
            "992c445d370c487c9f0fd8f7061c99d9",
            "aef5fca280e244b4bf03d0a97ed94120",
            "8eeea34c74cb42fcab0c9b1e3b7277c4",
            "04d3296900d44d07a1c9869594720603",
            "1d512127fda444a796cf40f97c0381a9",
            "aaa24889ba164287b266c84aba49f552",
            "d1fdf30ceb6e415cb6b119879ae101d8",
            "d7d983e4fe5b428f83910b684c718408",
            "eb6df4beb68f4b6a83e6a04c6f8ec894",
            "b71975818f0d4c9b94b62712b4943877",
            "a8e7a0d5743e421a92d62d385d84f9cc",
            "5ec8d96cab7e4a25b4abce9d96321b52",
            "7225a91c59e34b94952a80d1a25ea89b",
            "25c56666dc2c41c7bcb830ad0f26d9f7",
            "a1e81ff56df04b7c85816d5a78b6eced",
            "9dc0157f2bf243258ae8343a2faaa369",
            "b7a74792b80f4cfb92a2b9bf3c9d4137",
            "427f0bf5ce8e41b5b31eaabac453cb9c",
            "fbbb159e51de4997a7d27c5e8cc0c495",
            "01eac4c0a8e74a45bb0d1f3c43b01483",
            "dc74dccf1d564871973b3b6466d08d3b",
            "071e916fb3de4ed08ca4fbc210cae772",
            "b924c750a26443cba0fbac4f9e794e09",
            "1033adff3edd44278ae8ce17f7da5339",
            "8fe765f166814d0794a538fc5205608f",
            "5949fb8aad9749e7b00c54e646666b6f",
            "0e8393abd2d24a60942e6a9be5cf7b53",
            "2775b192ac6a424ab953c0f046e33ce9",
            "1bdc27aeeb644cae9e905f2662c1a24d",
            "20cb2dcf234844d6ab5c421d59ae0460",
            "7e8f90facda3408980c2b6abf0c3c644",
            "a0835945ac2a401d92bfc02d1dbac2f2",
            "9cf48e95807f4c39b13cb10144d821d6",
            "0347219cfdc947b2a27c2950a769ed67",
            "4b28c7cc4d3444b982e36c8d76a1c7ef",
            "66e155604e994e27b2b7b2523cdc9f95",
            "5682ef08b6c04a42b8c40338283df737",
            "d6ea8c1d21a4462b8a7018d472743bd0",
            "e488eca9964e4b73b370d702ea8690ec",
            "0ca4f6fdb3204e74b2dfc84ae1513a39",
            "28d98c53488847e0bbf6b6dc19782ae2",
            "4b49c3892ba244dd81366547eeb38025",
            "fef577aae5d142399b97db9184c5db99",
            "fdd28c662c2842f68cea6ffc5586fa1b",
            "3e5eb349ee7542c5be7b94484831e074"
          ]
        },
        "id": "MG4NSroTX-v4",
        "outputId": "eea59388-9558-4210-81e9-014f835af8e0"
      },
      "source": [
        "trainer.fit(tweet_model, tweet_dataset)"
      ],
      "execution_count": 55,
      "outputs": [
        {
          "output_type": "stream",
          "text": [
            "LOCAL_RANK: 0 - CUDA_VISIBLE_DEVICES: [0]\n",
            "\n",
            "  | Name       | Type             | Params\n",
            "------------------------------------------------\n",
            "0 | encoder    | Encoder          | 20.5 K\n",
            "1 | decoder    | Decoder          | 2.3 K \n",
            "2 | final_proj | Linear           | 48    \n",
            "3 | loss       | CrossEntropyLoss | 0     \n",
            "------------------------------------------------\n",
            "22.8 K    Trainable params\n",
            "0         Non-trainable params\n",
            "22.8 K    Total params\n",
            "0.091     Total estimated model params size (MB)\n"
          ],
          "name": "stderr"
        },
        {
          "output_type": "display_data",
          "data": {
            "application/vnd.jupyter.widget-view+json": {
              "model_id": "cd1679c357624d68a2991338ffd2a424",
              "version_minor": 0,
              "version_major": 2
            },
            "text/plain": [
              "HBox(children=(FloatProgress(value=1.0, bar_style='info', description='Validation sanity check', layout=Layout…"
            ]
          },
          "metadata": {
            "tags": []
          }
        },
        {
          "output_type": "stream",
          "text": [
            "Epoch: 0, Test Acc: 0.0, Test Loss: 1.100278615951538\n",
            "\r"
          ],
          "name": "stdout"
        },
        {
          "output_type": "display_data",
          "data": {
            "application/vnd.jupyter.widget-view+json": {
              "model_id": "beac20c58d3c410c961d1d1b26aed294",
              "version_minor": 0,
              "version_major": 2
            },
            "text/plain": [
              "HBox(children=(FloatProgress(value=1.0, bar_style='info', description='Training', layout=Layout(flex='2'), max…"
            ]
          },
          "metadata": {
            "tags": []
          }
        },
        {
          "output_type": "display_data",
          "data": {
            "application/vnd.jupyter.widget-view+json": {
              "model_id": "aaa24889ba164287b266c84aba49f552",
              "version_minor": 0,
              "version_major": 2
            },
            "text/plain": [
              "HBox(children=(FloatProgress(value=1.0, bar_style='info', description='Validating', layout=Layout(flex='2'), m…"
            ]
          },
          "metadata": {
            "tags": []
          }
        },
        {
          "output_type": "stream",
          "text": [
            "Epoch: 0, Test Acc: 0.7100000381469727, Test Loss: 0.6964030861854553\n"
          ],
          "name": "stdout"
        },
        {
          "output_type": "display_data",
          "data": {
            "application/vnd.jupyter.widget-view+json": {
              "model_id": "25c56666dc2c41c7bcb830ad0f26d9f7",
              "version_minor": 0,
              "version_major": 2
            },
            "text/plain": [
              "HBox(children=(FloatProgress(value=1.0, bar_style='info', description='Validating', layout=Layout(flex='2'), m…"
            ]
          },
          "metadata": {
            "tags": []
          }
        },
        {
          "output_type": "stream",
          "text": [
            "Epoch: 1, Test Acc: 0.75, Test Loss: 0.6115888357162476\n"
          ],
          "name": "stdout"
        },
        {
          "output_type": "display_data",
          "data": {
            "application/vnd.jupyter.widget-view+json": {
              "model_id": "071e916fb3de4ed08ca4fbc210cae772",
              "version_minor": 0,
              "version_major": 2
            },
            "text/plain": [
              "HBox(children=(FloatProgress(value=1.0, bar_style='info', description='Validating', layout=Layout(flex='2'), m…"
            ]
          },
          "metadata": {
            "tags": []
          }
        },
        {
          "output_type": "stream",
          "text": [
            "Epoch: 2, Test Acc: 0.753333330154419, Test Loss: 0.6013224720954895\n"
          ],
          "name": "stdout"
        },
        {
          "output_type": "display_data",
          "data": {
            "application/vnd.jupyter.widget-view+json": {
              "model_id": "20cb2dcf234844d6ab5c421d59ae0460",
              "version_minor": 0,
              "version_major": 2
            },
            "text/plain": [
              "HBox(children=(FloatProgress(value=1.0, bar_style='info', description='Validating', layout=Layout(flex='2'), m…"
            ]
          },
          "metadata": {
            "tags": []
          }
        },
        {
          "output_type": "stream",
          "text": [
            "Epoch: 3, Test Acc: 0.800000011920929, Test Loss: 0.6348486542701721\n"
          ],
          "name": "stdout"
        },
        {
          "output_type": "display_data",
          "data": {
            "application/vnd.jupyter.widget-view+json": {
              "model_id": "d6ea8c1d21a4462b8a7018d472743bd0",
              "version_minor": 0,
              "version_major": 2
            },
            "text/plain": [
              "HBox(children=(FloatProgress(value=1.0, bar_style='info', description='Validating', layout=Layout(flex='2'), m…"
            ]
          },
          "metadata": {
            "tags": []
          }
        },
        {
          "output_type": "stream",
          "text": [
            "Epoch: 4, Test Acc: 0.8066666722297668, Test Loss: 0.6507688760757446\n",
            "\n"
          ],
          "name": "stdout"
        }
      ]
    },
    {
      "cell_type": "code",
      "metadata": {
        "id": "iwhQAvVulYhq"
      },
      "source": [
        "def debug_model(model, dataset, batch):\n",
        "    labels, sequences, lengths, texts = batch\n",
        "\n",
        "    raw_text, cleaned_text = texts[0]\n",
        "\n",
        "    display(HTML(f'<h3>Raw Tweet: {raw_text}</h3>'))\n",
        "    display(HTML(f'<h3>Input Text: {cleaned_text}</h3>'))\n",
        "\n",
        "    with torch.no_grad():\n",
        "        logits = tweet_model(sequences, lengths, debug=True)\n",
        "    \n",
        "    pred = torch.argmax(F.log_softmax(logits, dim=1), dim=1)\n",
        "\n",
        "    print(\"\\n\")\n",
        "\n",
        "    display(HTML(f'<h3>Label: {dataset.get_labels()[labels[0]]}</h3>'))\n",
        "    display(HTML(f'<h3>Predicted: {dataset.get_labels()[pred[0]]}</h3>'))\n"
      ],
      "execution_count": 56,
      "outputs": []
    },
    {
      "cell_type": "code",
      "metadata": {
        "id": "Hb4gSZ31ztD-"
      },
      "source": [
        "debug_loader = iter(tweet_dataset.test_dataloader())"
      ],
      "execution_count": 61,
      "outputs": []
    },
    {
      "cell_type": "code",
      "metadata": {
        "id": "CZuvBs9iz4EE"
      },
      "source": [
        "debug_batch = next(debug_loader)"
      ],
      "execution_count": 66,
      "outputs": []
    },
    {
      "cell_type": "code",
      "metadata": {
        "colab": {
          "base_uri": "https://localhost:8080/",
          "height": 1000
        },
        "id": "mMkpv8QiiDmQ",
        "outputId": "41aa9607-cf0e-4ebb-956f-45eff800ac2a"
      },
      "source": [
        "debug_model(tweet_model, tweet_dataset, debug_batch)"
      ],
      "execution_count": 67,
      "outputs": [
        {
          "output_type": "display_data",
          "data": {
            "text/html": [
              "<h3>Raw Tweet: RT @WhatTheFFacts: In his teen years, Obama has been known to use marijuana and cocaine.</h3>"
            ],
            "text/plain": [
              "<IPython.core.display.HTML object>"
            ]
          },
          "metadata": {
            "tags": []
          }
        },
        {
          "output_type": "display_data",
          "data": {
            "text/html": [
              "<h3>Input Text:  In his teen years, Obama has been known to use marijuana and cocaine.</h3>"
            ],
            "text/plain": [
              "<IPython.core.display.HTML object>"
            ]
          },
          "metadata": {
            "tags": []
          }
        },
        {
          "output_type": "display_data",
          "data": {
            "text/html": [
              "<h2>DEBUG Encoder</h2>"
            ],
            "text/plain": [
              "<IPython.core.display.HTML object>"
            ]
          },
          "metadata": {
            "tags": []
          }
        },
        {
          "output_type": "display_data",
          "data": {
            "image/png": "[encoded data removed]",
            "text/plain": [
              "<Figure size 432x288 with 2 Axes>"
            ]
          },
          "metadata": {
            "tags": []
          }
        },
        {
          "output_type": "display_data",
          "data": {
            "image/png": "[encoded data removed]",
            "text/plain": [
              "<Figure size 432x288 with 2 Axes>"
            ]
          },
          "metadata": {
            "tags": []
          }
        },
        {
          "output_type": "display_data",
          "data": {
            "image/png": "[encoded data removed]",
            "text/plain": [
              "<Figure size 432x288 with 2 Axes>"
            ]
          },
          "metadata": {
            "tags": []
          }
        },
        {
          "output_type": "display_data",
          "data": {
            "image/png": "[encoded data removed]",
            "text/plain": [
              "<Figure size 432x288 with 2 Axes>"
            ]
          },
          "metadata": {
            "tags": []
          }
        },
        {
          "output_type": "display_data",
          "data": {
            "image/png": "[encoded data removed]",
            "text/plain": [
              "<Figure size 432x288 with 2 Axes>"
            ]
          },
          "metadata": {
            "tags": []
          }
        },
        {
          "output_type": "display_data",
          "data": {
            "image/png": "[encoded data removed]",
            "text/plain": [
              "<Figure size 432x288 with 2 Axes>"
            ]
          },
          "metadata": {
            "tags": []
          }
        },
        {
          "output_type": "display_data",
          "data": {
            "image/png": "[encoded data removed]",
            "text/plain": [
              "<Figure size 432x288 with 2 Axes>"
            ]
          },
          "metadata": {
            "tags": []
          }
        },
        {
          "output_type": "display_data",
          "data": {
            "image/png": "[encoded data removed]",
            "text/plain": [
              "<Figure size 432x288 with 2 Axes>"
            ]
          },
          "metadata": {
            "tags": []
          }
        },
        {
          "output_type": "display_data",
          "data": {
            "image/png": "[encoded data removed]",
            "text/plain": [
              "<Figure size 432x288 with 2 Axes>"
            ]
          },
          "metadata": {
            "tags": []
          }
        },
        {
          "output_type": "display_data",
          "data": {
            "image/png": "[encoded data removed]",
            "text/plain": [
              "<Figure size 432x288 with 2 Axes>"
            ]
          },
          "metadata": {
            "tags": []
          }
        },
        {
          "output_type": "display_data",
          "data": {
            "image/png": "[encoded data removed]",
            "text/plain": [
              "<Figure size 432x288 with 2 Axes>"
            ]
          },
          "metadata": {
            "tags": []
          }
        },
        {
          "output_type": "display_data",
          "data": {
            "image/png": "[encoded data removed]",
            "text/plain": [
              "<Figure size 432x288 with 2 Axes>"
            ]
          },
          "metadata": {
            "tags": []
          }
        },
        {
          "output_type": "display_data",
          "data": {
            "image/png": "[encoded data removed]",
            "text/plain": [
              "<Figure size 432x288 with 2 Axes>"
            ]
          },
          "metadata": {
            "tags": []
          }
        },
        {
          "output_type": "display_data",
          "data": {
            "image/png": "[encoded data removed]",
            "text/plain": [
              "<Figure size 432x288 with 2 Axes>"
            ]
          },
          "metadata": {
            "tags": []
          }
        },
        {
          "output_type": "display_data",
          "data": {
            "image/png": "[encoded data removed]",
            "text/plain": [
              "<Figure size 432x288 with 2 Axes>"
            ]
          },
          "metadata": {
            "tags": []
          }
        },
        {
          "output_type": "display_data",
          "data": {
            "image/png": "[encoded data removed]",
            "text/plain": [
              "<Figure size 432x288 with 2 Axes>"
            ]
          },
          "metadata": {
            "tags": []
          }
        },
        {
          "output_type": "display_data",
          "data": {
            "image/png": "[encoded data removed]",
            "text/plain": [
              "<Figure size 432x288 with 2 Axes>"
            ]
          },
          "metadata": {
            "tags": []
          }
        },
        {
          "output_type": "display_data",
          "data": {
            "text/html": [
              "<h2>DEBUG Decoder</h2>"
            ],
            "text/plain": [
              "<IPython.core.display.HTML object>"
            ]
          },
          "metadata": {
            "tags": []
          }
        },
        {
          "output_type": "display_data",
          "data": {
            "image/png": "[encoded data removed]",
            "text/plain": [
              "<Figure size 432x288 with 2 Axes>"
            ]
          },
          "metadata": {
            "tags": []
          }
        },
        {
          "output_type": "display_data",
          "data": {
            "image/png": "[encoded data removed]",
            "text/plain": [
              "<Figure size 432x288 with 2 Axes>"
            ]
          },
          "metadata": {
            "tags": []
          }
        },
        {
          "output_type": "display_data",
          "data": {
            "image/png": "[encoded data removed]",
            "text/plain": [
              "<Figure size 432x288 with 2 Axes>"
            ]
          },
          "metadata": {
            "tags": []
          }
        },
        {
          "output_type": "display_data",
          "data": {
            "image/png": "[encoded data removed]",
            "text/plain": [
              "<Figure size 432x288 with 2 Axes>"
            ]
          },
          "metadata": {
            "tags": []
          }
        },
        {
          "output_type": "display_data",
          "data": {
            "image/png": "[encoded data removed]",
            "text/plain": [
              "<Figure size 432x288 with 2 Axes>"
            ]
          },
          "metadata": {
            "tags": []
          }
        },
        {
          "output_type": "display_data",
          "data": {
            "image/png": "[encoded data removed]",
            "text/plain": [
              "<Figure size 432x288 with 2 Axes>"
            ]
          },
          "metadata": {
            "tags": []
          }
        },
        {
          "output_type": "display_data",
          "data": {
            "text/html": [
              "<h2>DEBUG Output</h2>"
            ],
            "text/plain": [
              "<IPython.core.display.HTML object>"
            ]
          },
          "metadata": {
            "tags": []
          }
        },
        {
          "output_type": "display_data",
          "data": {
            "image/png": "[encoded data removed]",
            "text/plain": [
              "<Figure size 432x288 with 2 Axes>"
            ]
          },
          "metadata": {
            "tags": []
          }
        },
        {
          "output_type": "stream",
          "text": [
            "\n",
            "\n"
          ],
          "name": "stdout"
        },
        {
          "output_type": "display_data",
          "data": {
            "text/html": [
              "<h3>Label: Negative</h3>"
            ],
            "text/plain": [
              "<IPython.core.display.HTML object>"
            ]
          },
          "metadata": {
            "tags": []
          }
        },
        {
          "output_type": "display_data",
          "data": {
            "text/html": [
              "<h3>Predicted: Negative</h3>"
            ],
            "text/plain": [
              "<IPython.core.display.HTML object>"
            ]
          },
          "metadata": {
            "tags": []
          }
        }
      ]
    },
    {
      "cell_type": "code",
      "metadata": {
        "id": "nUo5U2V8o0zC"
      },
      "source": [
        "def get_misclassified(model, dataset):\n",
        "    tweet = []\n",
        "    tweet_cleaned = []\n",
        "    label = []\n",
        "    predicted = []\n",
        "\n",
        "    loader = dataset.test_dataloader()\n",
        "\n",
        "    for batch in iter(loader):\n",
        "        labels, sequences, lengths, raw_text = batch\n",
        "        with torch.no_grad():\n",
        "            logits = tweet_model(sequences, lengths)\n",
        "    \n",
        "        pred = torch.argmax(F.log_softmax(logits, dim=1), dim=1)\n",
        "\n",
        "        if (pred != labels):\n",
        "            tweet.append(raw_text[0][0])\n",
        "            tweet_cleaned.append(raw_text[0][1])\n",
        "            label.append(dataset.get_labels()[labels[0]])\n",
        "            predicted.append(dataset.get_labels()[pred[0]])\n",
        "        \n",
        "    return pd.DataFrame({\n",
        "        'tweet': tweet,\n",
        "        'tweet_cleaned': tweet_cleaned,\n",
        "        'label': label,\n",
        "        'predicted': predicted\n",
        "    })"
      ],
      "execution_count": 68,
      "outputs": []
    },
    {
      "cell_type": "code",
      "metadata": {
        "id": "9rpcpM66tVPV"
      },
      "source": [
        "misclassified = get_misclassified(tweet_model, tweet_dataset)"
      ],
      "execution_count": 69,
      "outputs": []
    },
    {
      "cell_type": "code",
      "metadata": {
        "colab": {
          "base_uri": "https://localhost:8080/"
        },
        "id": "YR_TiRFus9gC",
        "outputId": "7f1ebb64-26d9-4c35-f031-a9ef7d429bf4"
      },
      "source": [
        "for idx, row in list(misclassified.iterrows())[:10]:\n",
        "    print(f\"Tweet: {row['tweet']}\\nTweet Cleaned: {row['tweet_cleaned']}\\nLabel: {row['label']}\\nPredicted: {row['predicted']}\\n\\n\")"
      ],
      "execution_count": 70,
      "outputs": [
        {
          "output_type": "stream",
          "text": [
            "Tweet: Obama entrando en Skateboard y que si es real http://t.co/Sm9s2o9i LIKE A BOSS\n",
            "Tweet Cleaned: Obama entrando en Skateboard y que si es real LIKE A BOSS\n",
            "Label: Positive\n",
            "Predicted: Negative\n",
            "\n",
            "\n",
            "Tweet: The Writer's strike gave him the opportunity to go work for Obama's campaign\n",
            "Tweet Cleaned: The Writer's strike gave him the opportunity to go work for Obama's campaign\n",
            "Label: Positive\n",
            "Predicted: Negative\n",
            "\n",
            "\n",
            "Tweet: Great photo!! LLAP!!  #trekkers RT @GuyKawasaki: Barack Obama: Vulcan? http://t.co/UejtlmGt\n",
            "Tweet Cleaned: Great photo!! LLAP!!  Barack Obama Vulcan?\n",
            "Label: Positive\n",
            "Predicted: Negative\n",
            "\n",
            "\n",
            "Tweet: RT @marymauldin: OBAMA HONORS the wkwnd of Holy Passover 4 Jews & Holy Passion of Jesus by hosting MUSLIM BROTHERHOOD who wld murder both Jews & Christians\n",
            "Tweet Cleaned:  OBAMA HONORS the wkwnd of Holy Passover 4 Jews & Holy Passion of Jesus by hosting MUSLIM BROTHERHOOD who wld murder both Jews & Christians\n",
            "Label: Neutral\n",
            "Predicted: Negative\n",
            "\n",
            "\n",
            "Tweet: .@Notintheface1 I thought it was more, describe Obama, but instead of using Obama's qualities, list his own. Then hope nobody noticed.\n",
            "Tweet Cleaned: . I thought it was more, describe Obama, but instead of using Obama's qualities, list his own. Then hope nobody noticed.\n",
            "Label: Positive\n",
            "Predicted: Negative\n",
            "\n",
            "\n",
            "Tweet: Obama: If all the blacks line up for me, I promise I will triple your entitlements & give you all Escalades    http://t.co/f8b7HLaf\n",
            "Tweet Cleaned: Obama If all the blacks line up for me, I promise I will triple your entitlements & give you all Escalades\n",
            "Label: Neutral\n",
            "Predicted: Positive\n",
            "\n",
            "\n",
            "Tweet: RT @GatorNation41: gas was $1.92 when Obama took office...I guess he did promise he would change things http://t.co/TlfMmi0G\n",
            "Tweet Cleaned:  gas was $1.92 when Obama took office...I guess he did promise he would change things\n",
            "Label: Positive\n",
            "Predicted: Negative\n",
            "\n",
            "\n",
            "Tweet: RT @1Dlover_carrots: @Harry_Styles on a scale of 1-10 how attractive is this?...and don't say michelle Obama. http://t.co/YiFq4PKT\n",
            "Tweet Cleaned:  on a scale of 1-10 how attractive is this?...and don't say michelle Obama.\n",
            "Label: Positive\n",
            "Predicted: Negative\n",
            "\n",
            "\n",
            "Tweet: Liberal #SteveJobs: Obama's business killing regulations forces Apple to build in #China #cnn - http://t.co/Yd8jzwoV\n",
            "Tweet Cleaned: Liberal  Obama's business killing regulations forces Apple to build in -\n",
            "Label: Positive\n",
            "Predicted: Negative\n",
            "\n",
            "\n",
            "Tweet: Saul says Pres Obama \"will do anything\" to distract Americans from his \"failed\" economic record incl unemployment & higher gas prices.\"\n",
            "Tweet Cleaned: Saul says Pres Obama \"will do anything\" to distract Americans from his \"failed\" economic record incl unemployment & higher gas prices.\"\n",
            "Label: Positive\n",
            "Predicted: Neutral\n",
            "\n",
            "\n"
          ],
          "name": "stdout"
        }
      ]
    },
    {
      "cell_type": "code",
      "metadata": {
        "id": "zdwwHeaXuK-9"
      },
      "source": [
        "def get_correct_classified(model, dataset):\n",
        "    tweet = []\n",
        "    tweet_cleaned = []\n",
        "    label = []\n",
        "    predicted = []\n",
        "\n",
        "    loader = dataset.test_dataloader()\n",
        "\n",
        "    for batch in iter(loader):\n",
        "        labels, sequences, lengths, raw_text = batch\n",
        "        with torch.no_grad():\n",
        "            logits = tweet_model(sequences, lengths)\n",
        "    \n",
        "        pred = torch.argmax(F.log_softmax(logits, dim=1), dim=1)\n",
        "\n",
        "        if (pred == labels):\n",
        "            tweet.append(raw_text[0][0])\n",
        "            tweet_cleaned.append(raw_text[0][1])\n",
        "            label.append(dataset.get_labels()[labels[0]])\n",
        "            predicted.append(dataset.get_labels()[pred[0]])\n",
        "        \n",
        "    return pd.DataFrame({\n",
        "        'tweet': tweet,\n",
        "        'tweet_cleaned': tweet_cleaned,\n",
        "        'label': label,\n",
        "        'predicted': predicted\n",
        "    })"
      ],
      "execution_count": 71,
      "outputs": []
    },
    {
      "cell_type": "code",
      "metadata": {
        "id": "-6umsF3IuRba"
      },
      "source": [
        "correct_classified = get_correct_classified(tweet_model, tweet_dataset)"
      ],
      "execution_count": 72,
      "outputs": []
    },
    {
      "cell_type": "code",
      "metadata": {
        "colab": {
          "base_uri": "https://localhost:8080/"
        },
        "id": "yTnKe5NauYSz",
        "outputId": "a0b27e1d-79d8-4cef-e008-837bd259717f"
      },
      "source": [
        "for idx, row in list(correct_classified.iterrows())[:10]:\n",
        "    print(f\"Tweet: {row['tweet']}\\nTweet Cleaned: {row['tweet_cleaned']}\\nLabel: {row['label']}\\nPredicted: {row['predicted']}\\n\\n\")"
      ],
      "execution_count": 73,
      "outputs": [
        {
          "output_type": "stream",
          "text": [
            "Tweet: RT @WhatTheFFacts: In his teen years, Obama has been known to use marijuana and cocaine.\n",
            "Tweet Cleaned:  In his teen years, Obama has been known to use marijuana and cocaine.\n",
            "Label: Negative\n",
            "Predicted: Negative\n",
            "\n",
            "\n",
            "Tweet: RT @Drudge_Report: Obama setting up Supreme Court as campaign issue... http://t.co/1IiLN01H\n",
            "Tweet Cleaned:  Obama setting up Supreme Court as campaign issue...\n",
            "Label: Positive\n",
            "Predicted: Positive\n",
            "\n",
            "\n",
            "Tweet: RT @NatlWOW: @edshow Pres. Obama understands right from wrong! And doesn't need to flip flop around to get votes! #UniteWomen #edshow\n",
            "Tweet Cleaned:  Pres. Obama understands right from wrong! And doesn't need to flip flop around to get votes!\n",
            "Label: Negative\n",
            "Predicted: Negative\n",
            "\n",
            "\n",
            "Tweet: #WhatsRomneyHiding HE WONDERING.. WHATS OBAMA HIDING?????  remember the most transparent adm in history.. LMBO\n",
            "Tweet Cleaned: HE WONDERING.. WHATS OBAMA HIDING????? remember the most transparent adm in history.. LMBO\n",
            "Label: Negative\n",
            "Predicted: Negative\n",
            "\n",
            "\n",
            "Tweet: President Obama * Lindsay Lohan * 1989 RUMORS business 19 TH & M ST NW DC met field agent = multi connector to FFX  VA covert overt zone.\n",
            "Tweet Cleaned: President Obama * Lindsay Lohan * 1989 RUMORS business 19 TH & M ST NW DC met field agent = multi connector to FFX VA covert overt zone.\n",
            "Label: Negative\n",
            "Predicted: Negative\n",
            "\n",
            "\n",
            "Tweet: Romney and Obama agree that Augusta National should allow women to be members? Unthinkable...and bad news for the green coats.\n",
            "Tweet Cleaned: Romney and Obama agree that Augusta National should allow women to be members? Unthinkable...and bad news for the green coats.\n",
            "Label: Negative\n",
            "Predicted: Negative\n",
            "\n",
            "\n",
            "Tweet: #WhatsRomneyHiding Obama released his tax returns since 2000, where are Romney's?\n",
            "Tweet Cleaned: Obama released his tax returns since 2000, where are Romney's?\n",
            "Label: Negative\n",
            "Predicted: Negative\n",
            "\n",
            "\n",
            "Tweet: #newbedon 4/6/2012 4:25:20 AM Obama Wins Landslide Presidential Election...With Online Gamers http://t.co/JGbJwE9Z\n",
            "Tweet Cleaned: 4/6/2012 42520 AM Obama Wins Landslide Presidential Election...With Online Gamers\n",
            "Label: Negative\n",
            "Predicted: Negative\n",
            "\n",
            "\n",
            "Tweet: Obama says knock you out -- http://t.co/PUZRq7HU #screwytees\n",
            "Tweet Cleaned: Obama says knock you out --\n",
            "Label: Negative\n",
            "Predicted: Negative\n",
            "\n",
            "\n",
            "Tweet: Top Secret Obama 2012 World War 3 Illuminati Antichrist Conspiracy!: http://t.co/iqg1xarL via @youtube\n",
            "Tweet Cleaned: Top Secret Obama 2012 World War 3 Illuminati Antichrist Conspiracy! via\n",
            "Label: Negative\n",
            "Predicted: Negative\n",
            "\n",
            "\n"
          ],
          "name": "stdout"
        }
      ]
    },
    {
      "cell_type": "markdown",
      "metadata": {
        "id": "vQUK1xHAxYPB"
      },
      "source": [
        "## Misc Stuff"
      ]
    },
    {
      "cell_type": "code",
      "metadata": {
        "colab": {
          "base_uri": "https://localhost:8080/"
        },
        "id": "HIYXonx5x-H4",
        "outputId": "4c0ab397-0bfe-4d8c-e445-9181b08b2ca2"
      },
      "source": [
        "! ls"
      ],
      "execution_count": 30,
      "outputs": [
        {
          "output_type": "stream",
          "text": [
            "lightning_logs\tsample_data  tweets_cleaned.csv\n"
          ],
          "name": "stdout"
        }
      ]
    },
    {
      "cell_type": "code",
      "metadata": {
        "id": "x7kHnB-kxZx4"
      },
      "source": [
        "# ! rm -r lightning_logs/"
      ],
      "execution_count": 31,
      "outputs": []
    },
    {
      "cell_type": "code",
      "metadata": {
        "id": "_kmbMZ3ZxcLu"
      },
      "source": [
        "# ! tensorboard dev upload --logdir lightning_logs \\\n",
        "#     --name \"END2 06_Encoder Decoder - Satyajit\" \\\n",
        "#     --description \"Experiments on Encoder Decoder Architecture with Twitter Sample Dataset\""
      ],
      "execution_count": null,
      "outputs": []
    },
    {
      "cell_type": "code",
      "metadata": {
        "id": "0kyODFoQ0Ycg"
      },
      "source": [
        ""
      ],
      "execution_count": null,
      "outputs": []
    }
  ]
}