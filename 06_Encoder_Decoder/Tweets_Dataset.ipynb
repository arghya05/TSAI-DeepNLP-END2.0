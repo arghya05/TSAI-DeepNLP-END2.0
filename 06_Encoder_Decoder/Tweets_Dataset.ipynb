{
  "nbformat": 4,
  "nbformat_minor": 0,
  "metadata": {
    "colab": {
      "name": "Tweets_Dataset.ipynb",
      "provenance": [],
      "collapsed_sections": [],
      "authorship_tag": "ABX9TyNGR2SPbjTAAjtqkrUFdoDa",
      "include_colab_link": true
    },
    "kernelspec": {
      "name": "python3",
      "display_name": "Python 3"
    },
    "language_info": {
      "name": "python"
    },
    "widgets": {
      "application/vnd.jupyter.widget-state+json": {
        "0c8deb98251f41ebb3135144bb538523": {
          "model_module": "@jupyter-widgets/controls",
          "model_name": "HBoxModel",
          "state": {
            "_view_name": "HBoxView",
            "_dom_classes": [],
            "_model_name": "HBoxModel",
            "_view_module": "@jupyter-widgets/controls",
            "_model_module_version": "1.5.0",
            "_view_count": null,
            "_view_module_version": "1.5.0",
            "box_style": "",
            "layout": "IPY_MODEL_ad6ca513bc0a4e49a3b71ad41782376c",
            "_model_module": "@jupyter-widgets/controls",
            "children": [
              "IPY_MODEL_db3cd3bbcceb472782b49951abd7c6da",
              "IPY_MODEL_e8b653bd651c4f53afdc8dcf62387f37"
            ]
          }
        },
        "ad6ca513bc0a4e49a3b71ad41782376c": {
          "model_module": "@jupyter-widgets/base",
          "model_name": "LayoutModel",
          "state": {
            "_view_name": "LayoutView",
            "grid_template_rows": null,
            "right": null,
            "justify_content": null,
            "_view_module": "@jupyter-widgets/base",
            "overflow": null,
            "_model_module_version": "1.2.0",
            "_view_count": null,
            "flex_flow": null,
            "width": null,
            "min_width": null,
            "border": null,
            "align_items": null,
            "bottom": null,
            "_model_module": "@jupyter-widgets/base",
            "top": null,
            "grid_column": null,
            "overflow_y": null,
            "overflow_x": null,
            "grid_auto_flow": null,
            "grid_area": null,
            "grid_template_columns": null,
            "flex": null,
            "_model_name": "LayoutModel",
            "justify_items": null,
            "grid_row": null,
            "max_height": null,
            "align_content": null,
            "visibility": null,
            "align_self": null,
            "height": null,
            "min_height": null,
            "padding": null,
            "grid_auto_rows": null,
            "grid_gap": null,
            "max_width": null,
            "order": null,
            "_view_module_version": "1.2.0",
            "grid_template_areas": null,
            "object_position": null,
            "object_fit": null,
            "grid_auto_columns": null,
            "margin": null,
            "display": null,
            "left": null
          }
        },
        "db3cd3bbcceb472782b49951abd7c6da": {
          "model_module": "@jupyter-widgets/controls",
          "model_name": "FloatProgressModel",
          "state": {
            "_view_name": "ProgressView",
            "style": "IPY_MODEL_f68bb23e6114497398a285f1e7b3e55f",
            "_dom_classes": [],
            "description": "100%",
            "_model_name": "FloatProgressModel",
            "bar_style": "success",
            "max": 1357,
            "_view_module": "@jupyter-widgets/controls",
            "_model_module_version": "1.5.0",
            "value": 1357,
            "_view_count": null,
            "_view_module_version": "1.5.0",
            "orientation": "horizontal",
            "min": 0,
            "description_tooltip": null,
            "_model_module": "@jupyter-widgets/controls",
            "layout": "IPY_MODEL_ee0927f6e7ab4077b4f7ce616da7259e"
          }
        },
        "e8b653bd651c4f53afdc8dcf62387f37": {
          "model_module": "@jupyter-widgets/controls",
          "model_name": "HTMLModel",
          "state": {
            "_view_name": "HTMLView",
            "style": "IPY_MODEL_49215ddd17f74827b738a3caa0c932e0",
            "_dom_classes": [],
            "description": "",
            "_model_name": "HTMLModel",
            "placeholder": "​",
            "_view_module": "@jupyter-widgets/controls",
            "_model_module_version": "1.5.0",
            "value": " 1357/1357 [01:16&lt;00:00, 17.62it/s]",
            "_view_count": null,
            "_view_module_version": "1.5.0",
            "description_tooltip": null,
            "_model_module": "@jupyter-widgets/controls",
            "layout": "IPY_MODEL_e32aa72655fd4a8b80618a0eaa60c7cf"
          }
        },
        "f68bb23e6114497398a285f1e7b3e55f": {
          "model_module": "@jupyter-widgets/controls",
          "model_name": "ProgressStyleModel",
          "state": {
            "_view_name": "StyleView",
            "_model_name": "ProgressStyleModel",
            "description_width": "initial",
            "_view_module": "@jupyter-widgets/base",
            "_model_module_version": "1.5.0",
            "_view_count": null,
            "_view_module_version": "1.2.0",
            "bar_color": null,
            "_model_module": "@jupyter-widgets/controls"
          }
        },
        "ee0927f6e7ab4077b4f7ce616da7259e": {
          "model_module": "@jupyter-widgets/base",
          "model_name": "LayoutModel",
          "state": {
            "_view_name": "LayoutView",
            "grid_template_rows": null,
            "right": null,
            "justify_content": null,
            "_view_module": "@jupyter-widgets/base",
            "overflow": null,
            "_model_module_version": "1.2.0",
            "_view_count": null,
            "flex_flow": null,
            "width": null,
            "min_width": null,
            "border": null,
            "align_items": null,
            "bottom": null,
            "_model_module": "@jupyter-widgets/base",
            "top": null,
            "grid_column": null,
            "overflow_y": null,
            "overflow_x": null,
            "grid_auto_flow": null,
            "grid_area": null,
            "grid_template_columns": null,
            "flex": null,
            "_model_name": "LayoutModel",
            "justify_items": null,
            "grid_row": null,
            "max_height": null,
            "align_content": null,
            "visibility": null,
            "align_self": null,
            "height": null,
            "min_height": null,
            "padding": null,
            "grid_auto_rows": null,
            "grid_gap": null,
            "max_width": null,
            "order": null,
            "_view_module_version": "1.2.0",
            "grid_template_areas": null,
            "object_position": null,
            "object_fit": null,
            "grid_auto_columns": null,
            "margin": null,
            "display": null,
            "left": null
          }
        },
        "49215ddd17f74827b738a3caa0c932e0": {
          "model_module": "@jupyter-widgets/controls",
          "model_name": "DescriptionStyleModel",
          "state": {
            "_view_name": "StyleView",
            "_model_name": "DescriptionStyleModel",
            "description_width": "",
            "_view_module": "@jupyter-widgets/base",
            "_model_module_version": "1.5.0",
            "_view_count": null,
            "_view_module_version": "1.2.0",
            "_model_module": "@jupyter-widgets/controls"
          }
        },
        "e32aa72655fd4a8b80618a0eaa60c7cf": {
          "model_module": "@jupyter-widgets/base",
          "model_name": "LayoutModel",
          "state": {
            "_view_name": "LayoutView",
            "grid_template_rows": null,
            "right": null,
            "justify_content": null,
            "_view_module": "@jupyter-widgets/base",
            "overflow": null,
            "_model_module_version": "1.2.0",
            "_view_count": null,
            "flex_flow": null,
            "width": null,
            "min_width": null,
            "border": null,
            "align_items": null,
            "bottom": null,
            "_model_module": "@jupyter-widgets/base",
            "top": null,
            "grid_column": null,
            "overflow_y": null,
            "overflow_x": null,
            "grid_auto_flow": null,
            "grid_area": null,
            "grid_template_columns": null,
            "flex": null,
            "_model_name": "LayoutModel",
            "justify_items": null,
            "grid_row": null,
            "max_height": null,
            "align_content": null,
            "visibility": null,
            "align_self": null,
            "height": null,
            "min_height": null,
            "padding": null,
            "grid_auto_rows": null,
            "grid_gap": null,
            "max_width": null,
            "order": null,
            "_view_module_version": "1.2.0",
            "grid_template_areas": null,
            "object_position": null,
            "object_fit": null,
            "grid_auto_columns": null,
            "margin": null,
            "display": null,
            "left": null
          }
        }
      }
    }
  },
  "cells": [
    {
      "cell_type": "markdown",
      "metadata": {
        "id": "view-in-github",
        "colab_type": "text"
      },
      "source": [
        "<a href=\"https://colab.research.google.com/github/satyajitghana/TSAI-DeepNLP-END2.0/blob/main/06_Encoder_Decoder/Tweets_Dataset.ipynb\" target=\"_parent\"><img src=\"https://colab.research.google.com/assets/colab-badge.svg\" alt=\"Open In Colab\"/></a>"
      ]
    },
    {
      "cell_type": "code",
      "metadata": {
        "colab": {
          "base_uri": "https://localhost:8080/"
        },
        "id": "R2YHeIWqsbsw",
        "outputId": "4668ccaa-f6c0-43ac-9d53-81ce642059e0"
      },
      "source": [
        "! pip install gdown==3.13.0 --quiet\n",
        "! pip install spacy==3.0.6 --quiet\n",
        "! pip install tweet-preprocessor --quiet\n",
        "! pip install pytorch-lightning --quiet"
      ],
      "execution_count": 93,
      "outputs": [
        {
          "output_type": "stream",
          "text": [
            "\u001b[K     |████████████████████████████████| 808kB 5.2MB/s \n",
            "\u001b[K     |████████████████████████████████| 122kB 36.7MB/s \n",
            "\u001b[K     |████████████████████████████████| 10.6MB 32.6MB/s \n",
            "\u001b[K     |████████████████████████████████| 645kB 31.9MB/s \n",
            "\u001b[K     |████████████████████████████████| 829kB 38.5MB/s \n",
            "\u001b[K     |████████████████████████████████| 276kB 34.1MB/s \n",
            "\u001b[K     |████████████████████████████████| 1.3MB 30.5MB/s \n",
            "\u001b[K     |████████████████████████████████| 143kB 39.0MB/s \n",
            "\u001b[K     |████████████████████████████████| 296kB 29.6MB/s \n",
            "\u001b[?25h  Building wheel for future (setup.py) ... \u001b[?25l\u001b[?25hdone\n",
            "\u001b[31mERROR: tensorflow 2.5.0 has requirement tensorboard~=2.5, but you'll have tensorboard 2.4.1 which is incompatible.\u001b[0m\n"
          ],
          "name": "stdout"
        }
      ]
    },
    {
      "cell_type": "code",
      "metadata": {
        "id": "dTEWnyQ9HxrH"
      },
      "source": [
        "! python -m spacy download en_core_web_sm"
      ],
      "execution_count": null,
      "outputs": []
    },
    {
      "cell_type": "code",
      "metadata": {
        "colab": {
          "base_uri": "https://localhost:8080/"
        },
        "id": "kHPVtnP-nJEP",
        "outputId": "6af16a58-dd17-4360-e511-74e57c789b3e"
      },
      "source": [
        "! gdown https://drive.google.com/uc?id=1MMAXbWehsbs-tRpK2wxpF0UWrwC00hC5"
      ],
      "execution_count": 2,
      "outputs": [
        {
          "output_type": "stream",
          "text": [
            "Downloading...\n",
            "From: https://drive.google.com/uc?id=1MMAXbWehsbs-tRpK2wxpF0UWrwC00hC5\n",
            "To: /content/tweets.csv\n",
            "\r  0% 0.00/160k [00:00<?, ?B/s]\r100% 160k/160k [00:00<00:00, 5.07MB/s]\n"
          ],
          "name": "stdout"
        }
      ]
    },
    {
      "cell_type": "code",
      "metadata": {
        "colab": {
          "base_uri": "https://localhost:8080/"
        },
        "id": "xKBte7EvnUUC",
        "outputId": "4cf84dbf-46b4-4b3d-be26-6c33f81cb2e2"
      },
      "source": [
        "import pandas as pd\n",
        "import preprocessor as p\n",
        "\n",
        "from tqdm.auto import tqdm\n",
        "\n",
        "tqdm.pandas()"
      ],
      "execution_count": 141,
      "outputs": [
        {
          "output_type": "stream",
          "text": [
            "/usr/local/lib/python3.7/dist-packages/tqdm/std.py:658: FutureWarning: The Panel class is removed from pandas. Accessing it from the top-level namespace will also be removed in the next version\n",
            "  from pandas import Panel\n"
          ],
          "name": "stderr"
        }
      ]
    },
    {
      "cell_type": "code",
      "metadata": {
        "id": "WKLj-JlToEfs"
      },
      "source": [
        "dataset = pd.read_csv('tweets.csv')"
      ],
      "execution_count": 142,
      "outputs": []
    },
    {
      "cell_type": "code",
      "metadata": {
        "colab": {
          "base_uri": "https://localhost:8080/",
          "height": 417
        },
        "id": "-xB-k_wFq7ea",
        "outputId": "1a7e656e-1685-4826-8292-b18742bef8c1"
      },
      "source": [
        "dataset"
      ],
      "execution_count": 143,
      "outputs": [
        {
          "output_type": "execute_result",
          "data": {
            "text/html": [
              "<div>\n",
              "<style scoped>\n",
              "    .dataframe tbody tr th:only-of-type {\n",
              "        vertical-align: middle;\n",
              "    }\n",
              "\n",
              "    .dataframe tbody tr th {\n",
              "        vertical-align: top;\n",
              "    }\n",
              "\n",
              "    .dataframe thead th {\n",
              "        text-align: right;\n",
              "    }\n",
              "</style>\n",
              "<table border=\"1\" class=\"dataframe\">\n",
              "  <thead>\n",
              "    <tr style=\"text-align: right;\">\n",
              "      <th></th>\n",
              "      <th>tweets</th>\n",
              "      <th>labels</th>\n",
              "    </tr>\n",
              "  </thead>\n",
              "  <tbody>\n",
              "    <tr>\n",
              "      <th>0</th>\n",
              "      <td>Obama has called the GOP budget social Darwini...</td>\n",
              "      <td>1</td>\n",
              "    </tr>\n",
              "    <tr>\n",
              "      <th>1</th>\n",
              "      <td>In his teen years, Obama has been known to use...</td>\n",
              "      <td>0</td>\n",
              "    </tr>\n",
              "    <tr>\n",
              "      <th>2</th>\n",
              "      <td>IPA Congratulates President Barack Obama for L...</td>\n",
              "      <td>0</td>\n",
              "    </tr>\n",
              "    <tr>\n",
              "      <th>3</th>\n",
              "      <td>RT @Professor_Why: #WhatsRomneyHiding - his co...</td>\n",
              "      <td>0</td>\n",
              "    </tr>\n",
              "    <tr>\n",
              "      <th>4</th>\n",
              "      <td>RT @wardollarshome: Obama has approved more ta...</td>\n",
              "      <td>1</td>\n",
              "    </tr>\n",
              "    <tr>\n",
              "      <th>...</th>\n",
              "      <td>...</td>\n",
              "      <td>...</td>\n",
              "    </tr>\n",
              "    <tr>\n",
              "      <th>1359</th>\n",
              "      <td>@liberalminds Its trending idiot.. Did you loo...</td>\n",
              "      <td>0</td>\n",
              "    </tr>\n",
              "    <tr>\n",
              "      <th>1360</th>\n",
              "      <td>RT @AstoldByBass: #KimKardashiansNextBoyfriend...</td>\n",
              "      <td>0</td>\n",
              "    </tr>\n",
              "    <tr>\n",
              "      <th>1361</th>\n",
              "      <td>RT @GatorNation41: gas was $1.92 when Obama to...</td>\n",
              "      <td>1</td>\n",
              "    </tr>\n",
              "    <tr>\n",
              "      <th>1362</th>\n",
              "      <td>@xShwag haha i know im just so smart, i mean y...</td>\n",
              "      <td>1</td>\n",
              "    </tr>\n",
              "    <tr>\n",
              "      <th>1363</th>\n",
              "      <td>#OBAMA:  DICTATOR IN TRAINING.  If he passes t...</td>\n",
              "      <td>0</td>\n",
              "    </tr>\n",
              "  </tbody>\n",
              "</table>\n",
              "<p>1364 rows × 2 columns</p>\n",
              "</div>"
            ],
            "text/plain": [
              "                                                 tweets  labels\n",
              "0     Obama has called the GOP budget social Darwini...       1\n",
              "1     In his teen years, Obama has been known to use...       0\n",
              "2     IPA Congratulates President Barack Obama for L...       0\n",
              "3     RT @Professor_Why: #WhatsRomneyHiding - his co...       0\n",
              "4     RT @wardollarshome: Obama has approved more ta...       1\n",
              "...                                                 ...     ...\n",
              "1359  @liberalminds Its trending idiot.. Did you loo...       0\n",
              "1360  RT @AstoldByBass: #KimKardashiansNextBoyfriend...       0\n",
              "1361  RT @GatorNation41: gas was $1.92 when Obama to...       1\n",
              "1362  @xShwag haha i know im just so smart, i mean y...       1\n",
              "1363  #OBAMA:  DICTATOR IN TRAINING.  If he passes t...       0\n",
              "\n",
              "[1364 rows x 2 columns]"
            ]
          },
          "metadata": {
            "tags": []
          },
          "execution_count": 143
        }
      ]
    },
    {
      "cell_type": "code",
      "metadata": {
        "colab": {
          "base_uri": "https://localhost:8080/"
        },
        "id": "THUDSFDBq-65",
        "outputId": "a59df7c1-592c-45b5-8d08-adaffc20300e"
      },
      "source": [
        "dataset['labels'].value_counts()"
      ],
      "execution_count": 144,
      "outputs": [
        {
          "output_type": "execute_result",
          "data": {
            "text/plain": [
              "0    931\n",
              "1    352\n",
              "2     81\n",
              "Name: labels, dtype: int64"
            ]
          },
          "metadata": {
            "tags": []
          },
          "execution_count": 144
        }
      ]
    },
    {
      "cell_type": "code",
      "metadata": {
        "id": "0t3Xqb5FCzQ0"
      },
      "source": [
        "def clean_tweet(tweet):\n",
        "    tweet = tweet.replace(\"RT\", \"\")\n",
        "    tweet = p.clean(tweet).strip()\n",
        "    tweet = tweet.replace(\":\", \"\")\n",
        "    return tweet"
      ],
      "execution_count": 150,
      "outputs": []
    },
    {
      "cell_type": "code",
      "metadata": {
        "colab": {
          "base_uri": "https://localhost:8080/",
          "height": 166,
          "referenced_widgets": [
            "0c8deb98251f41ebb3135144bb538523",
            "ad6ca513bc0a4e49a3b71ad41782376c",
            "db3cd3bbcceb472782b49951abd7c6da",
            "e8b653bd651c4f53afdc8dcf62387f37",
            "f68bb23e6114497398a285f1e7b3e55f",
            "ee0927f6e7ab4077b4f7ce616da7259e",
            "49215ddd17f74827b738a3caa0c932e0",
            "e32aa72655fd4a8b80618a0eaa60c7cf"
          ]
        },
        "id": "FSLGmAajB1qz",
        "outputId": "18bcac0d-04ca-4d84-ff3b-b6ad64f67079"
      },
      "source": [
        "dataset['tweets_cleaned'] = dataset['tweets'].progress_apply(clean_tweet)\n",
        "dataset = dataset[dataset['tweets_cleaned'].str.len() > 2]"
      ],
      "execution_count": 151,
      "outputs": [
        {
          "output_type": "display_data",
          "data": {
            "application/vnd.jupyter.widget-view+json": {
              "model_id": "0c8deb98251f41ebb3135144bb538523",
              "version_minor": 0,
              "version_major": 2
            },
            "text/plain": [
              "HBox(children=(FloatProgress(value=0.0, max=1357.0), HTML(value='')))"
            ]
          },
          "metadata": {
            "tags": []
          }
        },
        {
          "output_type": "stream",
          "text": [
            "\n"
          ],
          "name": "stdout"
        },
        {
          "output_type": "stream",
          "text": [
            "/usr/local/lib/python3.7/dist-packages/ipykernel_launcher.py:1: SettingWithCopyWarning: \n",
            "A value is trying to be set on a copy of a slice from a DataFrame.\n",
            "Try using .loc[row_indexer,col_indexer] = value instead\n",
            "\n",
            "See the caveats in the documentation: https://pandas.pydata.org/pandas-docs/stable/user_guide/indexing.html#returning-a-view-versus-a-copy\n",
            "  \"\"\"Entry point for launching an IPython kernel.\n"
          ],
          "name": "stderr"
        }
      ]
    },
    {
      "cell_type": "code",
      "metadata": {
        "colab": {
          "base_uri": "https://localhost:8080/",
          "height": 417
        },
        "id": "o-InDT5xLO79",
        "outputId": "8fe2450f-6e7e-43a8-c08b-c97dfd0eeba3"
      },
      "source": [
        "dataset"
      ],
      "execution_count": 152,
      "outputs": [
        {
          "output_type": "execute_result",
          "data": {
            "text/html": [
              "<div>\n",
              "<style scoped>\n",
              "    .dataframe tbody tr th:only-of-type {\n",
              "        vertical-align: middle;\n",
              "    }\n",
              "\n",
              "    .dataframe tbody tr th {\n",
              "        vertical-align: top;\n",
              "    }\n",
              "\n",
              "    .dataframe thead th {\n",
              "        text-align: right;\n",
              "    }\n",
              "</style>\n",
              "<table border=\"1\" class=\"dataframe\">\n",
              "  <thead>\n",
              "    <tr style=\"text-align: right;\">\n",
              "      <th></th>\n",
              "      <th>tweets</th>\n",
              "      <th>labels</th>\n",
              "      <th>tweets_cleaned</th>\n",
              "    </tr>\n",
              "  </thead>\n",
              "  <tbody>\n",
              "    <tr>\n",
              "      <th>0</th>\n",
              "      <td>Obama has called the GOP budget social Darwini...</td>\n",
              "      <td>1</td>\n",
              "      <td>Obama has called the GOP budget social Darwini...</td>\n",
              "    </tr>\n",
              "    <tr>\n",
              "      <th>1</th>\n",
              "      <td>In his teen years, Obama has been known to use...</td>\n",
              "      <td>0</td>\n",
              "      <td>In his teen years, Obama has been known to use...</td>\n",
              "    </tr>\n",
              "    <tr>\n",
              "      <th>2</th>\n",
              "      <td>IPA Congratulates President Barack Obama for L...</td>\n",
              "      <td>0</td>\n",
              "      <td>IPA Congratulates President Barack Obama for L...</td>\n",
              "    </tr>\n",
              "    <tr>\n",
              "      <th>3</th>\n",
              "      <td>RT @Professor_Why: #WhatsRomneyHiding - his co...</td>\n",
              "      <td>0</td>\n",
              "      <td>- his connection to supporters of Critical Ra...</td>\n",
              "    </tr>\n",
              "    <tr>\n",
              "      <th>4</th>\n",
              "      <td>RT @wardollarshome: Obama has approved more ta...</td>\n",
              "      <td>1</td>\n",
              "      <td>Obama has approved more targeted assassinatio...</td>\n",
              "    </tr>\n",
              "    <tr>\n",
              "      <th>...</th>\n",
              "      <td>...</td>\n",
              "      <td>...</td>\n",
              "      <td>...</td>\n",
              "    </tr>\n",
              "    <tr>\n",
              "      <th>1359</th>\n",
              "      <td>@liberalminds Its trending idiot.. Did you loo...</td>\n",
              "      <td>0</td>\n",
              "      <td>Its trending idiot.. Did you look at the tweet...</td>\n",
              "    </tr>\n",
              "    <tr>\n",
              "      <th>1360</th>\n",
              "      <td>RT @AstoldByBass: #KimKardashiansNextBoyfriend...</td>\n",
              "      <td>0</td>\n",
              "      <td>Barack Obama</td>\n",
              "    </tr>\n",
              "    <tr>\n",
              "      <th>1361</th>\n",
              "      <td>RT @GatorNation41: gas was $1.92 when Obama to...</td>\n",
              "      <td>1</td>\n",
              "      <td>gas was $1.92 when Obama took office...I gues...</td>\n",
              "    </tr>\n",
              "    <tr>\n",
              "      <th>1362</th>\n",
              "      <td>@xShwag haha i know im just so smart, i mean y...</td>\n",
              "      <td>1</td>\n",
              "      <td>haha i know im just so smart, i mean you gotta...</td>\n",
              "    </tr>\n",
              "    <tr>\n",
              "      <th>1363</th>\n",
              "      <td>#OBAMA:  DICTATOR IN TRAINING.  If he passes t...</td>\n",
              "      <td>0</td>\n",
              "      <td>DICTATOR IN TRAINING. If he passes this train...</td>\n",
              "    </tr>\n",
              "  </tbody>\n",
              "</table>\n",
              "<p>1351 rows × 3 columns</p>\n",
              "</div>"
            ],
            "text/plain": [
              "                                                 tweets  ...                                     tweets_cleaned\n",
              "0     Obama has called the GOP budget social Darwini...  ...  Obama has called the GOP budget social Darwini...\n",
              "1     In his teen years, Obama has been known to use...  ...  In his teen years, Obama has been known to use...\n",
              "2     IPA Congratulates President Barack Obama for L...  ...  IPA Congratulates President Barack Obama for L...\n",
              "3     RT @Professor_Why: #WhatsRomneyHiding - his co...  ...   - his connection to supporters of Critical Ra...\n",
              "4     RT @wardollarshome: Obama has approved more ta...  ...   Obama has approved more targeted assassinatio...\n",
              "...                                                 ...  ...                                                ...\n",
              "1359  @liberalminds Its trending idiot.. Did you loo...  ...  Its trending idiot.. Did you look at the tweet...\n",
              "1360  RT @AstoldByBass: #KimKardashiansNextBoyfriend...  ...                                       Barack Obama\n",
              "1361  RT @GatorNation41: gas was $1.92 when Obama to...  ...   gas was $1.92 when Obama took office...I gues...\n",
              "1362  @xShwag haha i know im just so smart, i mean y...  ...  haha i know im just so smart, i mean you gotta...\n",
              "1363  #OBAMA:  DICTATOR IN TRAINING.  If he passes t...  ...   DICTATOR IN TRAINING. If he passes this train...\n",
              "\n",
              "[1351 rows x 3 columns]"
            ]
          },
          "metadata": {
            "tags": []
          },
          "execution_count": 152
        }
      ]
    },
    {
      "cell_type": "code",
      "metadata": {
        "colab": {
          "base_uri": "https://localhost:8080/"
        },
        "id": "yJawAfsoCI5N",
        "outputId": "a699c196-8fb1-4042-a2b0-b35fed577b7b"
      },
      "source": [
        "idx = 700\n",
        "dataset['tweets'].iloc[idx], dataset['tweets_cleaned'].iloc[idx]"
      ],
      "execution_count": 153,
      "outputs": [
        {
          "output_type": "execute_result",
          "data": {
            "text/plain": [
              "('Small Biz News Obama to sign bill to help companies go public http://t.co/w8RSgU6t',\n",
              " 'Small Biz News Obama to sign bill to help companies go public')"
            ]
          },
          "metadata": {
            "tags": []
          },
          "execution_count": 153
        }
      ]
    },
    {
      "cell_type": "code",
      "metadata": {
        "id": "k0PY7VaVDY3i"
      },
      "source": [
        "dataset.to_csv('tweets_cleaned.csv')"
      ],
      "execution_count": 154,
      "outputs": []
    },
    {
      "cell_type": "code",
      "metadata": {
        "id": "E4HK-135p5nU"
      },
      "source": [
        "import torch\n",
        "import torchtext\n",
        "import gdown\n",
        "\n",
        "import pytorch_lightning as pl\n",
        "\n",
        "from torch.utils.data import Dataset, DataLoader, random_split\n",
        "\n",
        "from torchtext.data.utils import get_tokenizer\n",
        "from torchtext.vocab import build_vocab_from_iterator\n",
        "\n",
        "import torchtext.experimental.functional as text_f\n",
        "\n",
        "from pathlib import Path\n",
        "from functools import partial\n",
        "\n",
        "import pandas as pd\n",
        "import preprocessor as p\n",
        "\n",
        "from typing import *"
      ],
      "execution_count": 155,
      "outputs": []
    },
    {
      "cell_type": "code",
      "metadata": {
        "id": "r_FwwyF0oG-T"
      },
      "source": [
        "class TweetsDataset(Dataset):\n",
        "    \"\"\"\n",
        "    \"\"\"\n",
        "\n",
        "    URL = 'https://drive.google.com/uc?id=1gCEb9iRVYet15O4Tqvrj9Fjq9lVbSEQg'\n",
        "    OUTPUT = 'tweets_cleaned.csv'\n",
        " \n",
        "\n",
        "    def __init__(self, root, vocab=None, vectors=None, text_transforms=None, label_transforms=None, ngrams=1):\n",
        "        \"\"\"Initiate text-classification dataset.\n",
        "        Args:\n",
        "            vocab: Vocabulary object used for dataset.\n",
        "        \"\"\"\n",
        "\n",
        "        super(self.__class__, self).__init__()\n",
        "\n",
        "        # if split not in ['train', 'test']:\n",
        "        #     raise ValueError(f'split must be either [\"train\", \"test\"] unknown split {split}')\n",
        "\n",
        "        if vocab and vectors:\n",
        "            raise ValueError(f'both vocab and vectors cannot be provided')\n",
        "\n",
        "        self.vocab = vocab\n",
        "        self.vectors = vectors\n",
        "\n",
        "        gdown.cached_download(self.URL, Path(root) / self.OUTPUT)\n",
        "\n",
        "        self.generate_tweet_dataset(Path(root) / self.OUTPUT)\n",
        "\n",
        "        tokenizer = get_tokenizer(\"spacy\", language=\"en_core_web_sm\")\n",
        "\n",
        "        # the text transform can only work at the sentence level\n",
        "        # the rest of tokenization and vocab is done by this class\n",
        "        self.text_transform = text_f.sequential_transforms(tokenizer, text_f.ngrams_func(ngrams))\n",
        "\n",
        "        self.vocab_transforms = text_f.sequential_transforms()\n",
        "        self.vector_transforms = text_f.sequential_transforms()\n",
        "\n",
        "        def build_vocab(data, transforms):\n",
        "            def apply_transforms(data):\n",
        "                for line in data:\n",
        "                    yield transforms(line)\n",
        "            return build_vocab_from_iterator(apply_transforms(data), len(data))\n",
        "\n",
        "        if self.vectors:\n",
        "            self.vector_transforms = text_f.sequential_transforms(\n",
        "                partial(vectors.get_vecs_by_tokens, lower_case_backup=True)\n",
        "            )\n",
        "        elif self.vocab is None:\n",
        "            # vocab is always built on the train dataset\n",
        "            self.vocab = build_vocab(self.dataset[\"tweets_cleaned\"], self.text_transform)\n",
        "    \n",
        "        if self.vocab:\n",
        "            self.vocab_transforms = text_f.sequential_transforms(\n",
        "                text_f.vocab_func(self.vocab), text_f.totensor(dtype=torch.long)\n",
        "            )\n",
        "\n",
        "        if text_transforms is not None:\n",
        "            self.text_transform = text_f.sequential_transforms(\n",
        "                self.text_transform, text_transforms, self.vocab_transforms, self.vector_transforms \n",
        "            )\n",
        "        else:\n",
        "            self.text_transform = text_f.sequential_transforms(\n",
        "                self.text_transform, self.vocab_transforms, self.vector_transforms\n",
        "            )\n",
        "\n",
        "        self.label_transform = text_f.sequential_transforms(text_f.totensor(dtype=torch.long))\n",
        "\n",
        "    def generate_tweet_dataset(self, dataset_file):\n",
        "        self.dataset = pd.read_csv(dataset_file)\n",
        "\n",
        "    def __getitem__(self, idx):\n",
        "        text = self.text_transform(self.dataset['tweets_cleaned'].iloc[idx])\n",
        "        label = self.label_transform(self.dataset['labels'].iloc[idx])\n",
        "        return label, text, self.dataset['tweets'].iloc[idx]\n",
        "\n",
        "    def __len__(self):\n",
        "        return len(self.dataset)\n",
        "\n",
        "    @staticmethod\n",
        "    def get_labels():\n",
        "        return ['Negative', 'Positive', 'Neutral']\n",
        "\n",
        "    def get_vocab(self):\n",
        "        return self.vocab\n",
        "\n",
        "    def get_vectors(self):\n",
        "        return self.vectors\n",
        "\n",
        "    def collator_fn(self, raw_texts=False):\n",
        "        def collate_fn(batch):\n",
        "            \n",
        "            labels, sequences, raw_texts = zip(*batch)\n",
        "\n",
        "            labels = torch.stack(labels)\n",
        "\n",
        "            lengths = torch.LongTensor([len(sequence) for sequence in sequences])\n",
        "\n",
        "            # print('before padding: ', sequences[40])\n",
        "\n",
        "            if not self.vectors:\n",
        "                pad_idx = self.get_vocab()['<pad>']\n",
        "                sequences = torch.nn.utils.rnn.pad_sequence(sequences, \n",
        "                                                            padding_value = pad_idx,\n",
        "                                                            batch_first=True\n",
        "                                                            )\n",
        "            # print('after padding: ', sequences[40])\n",
        "            if raw_texts:\n",
        "                return labels, sequences, lengths, raw_texts\n",
        "            else:\n",
        "                return labels, sequences, lengths\n",
        "        \n",
        "        return collate_fn"
      ],
      "execution_count": 167,
      "outputs": []
    },
    {
      "cell_type": "code",
      "metadata": {
        "id": "Fe6KD_cx1a8r"
      },
      "source": [
        "vectors = torchtext.vocab.GloVe(\"6B\")"
      ],
      "execution_count": 157,
      "outputs": []
    },
    {
      "cell_type": "code",
      "metadata": {
        "colab": {
          "base_uri": "https://localhost:8080/"
        },
        "id": "RtLyNK-6sSJo",
        "outputId": "8302eff3-d371-46f8-d279-2d1712636f23"
      },
      "source": [
        "dataset = TweetsDataset(root='.', vectors=vectors)"
      ],
      "execution_count": 159,
      "outputs": [
        {
          "output_type": "stream",
          "text": [
            "File exists: tweets_cleaned.csv\n"
          ],
          "name": "stdout"
        }
      ]
    },
    {
      "cell_type": "code",
      "metadata": {
        "colab": {
          "base_uri": "https://localhost:8080/"
        },
        "id": "ILcoCJAVsVp4",
        "outputId": "cd3e1bf3-165a-409e-ee3a-e281d5f36ac1"
      },
      "source": [
        "dataset[0]"
      ],
      "execution_count": 160,
      "outputs": [
        {
          "output_type": "execute_result",
          "data": {
            "text/plain": [
              "(tensor(1),\n",
              " tensor([[ 0.1030,  0.4800, -0.5092,  ..., -0.0370, -1.3354,  0.9289],\n",
              "         [-0.2106,  0.2268,  0.0637,  ..., -0.6105, -0.2069, -0.1013],\n",
              "         [ 0.0712,  0.3448,  0.0420,  ..., -0.0353, -0.5097,  0.1368],\n",
              "         ...,\n",
              "         [-0.6792, -0.1221, -0.2291,  ...,  0.0274, -0.2866, -0.0303],\n",
              "         [-0.1018, -1.1882, -0.4792,  ...,  0.1053,  0.9321, -0.1999],\n",
              "         [-0.1256,  0.0136,  0.1031,  ..., -0.3422, -0.0224,  0.1368]]),\n",
              " 'Obama has called the GOP budget social Darwinism. Nice try, but they believe in social creationism.')"
            ]
          },
          "metadata": {
            "tags": []
          },
          "execution_count": 160
        }
      ]
    },
    {
      "cell_type": "code",
      "metadata": {
        "colab": {
          "base_uri": "https://localhost:8080/"
        },
        "id": "BYMv6enzudFP",
        "outputId": "ef52ce4c-a197-48b9-985b-bf85abc1a4be"
      },
      "source": [
        "dataset[3]"
      ],
      "execution_count": 161,
      "outputs": [
        {
          "output_type": "execute_result",
          "data": {
            "text/plain": [
              "(tensor(0),\n",
              " tensor([[ 0.0000,  0.0000,  0.0000,  ...,  0.0000,  0.0000,  0.0000],\n",
              "         [ 0.0406, -0.0284,  0.2501,  ..., -0.7256, -0.1930,  0.2275],\n",
              "         [-0.2213,  0.4714, -0.1666,  ..., -0.4044, -0.6878,  0.0392],\n",
              "         ...,\n",
              "         [ 0.0084,  0.2877, -0.2347,  ..., -0.6641,  0.1030,  0.1219],\n",
              "         [ 0.4704,  0.1487,  0.1824,  ...,  0.3937, -0.5171,  0.9472],\n",
              "         [ 0.2336, -0.3992, -0.2368,  ..., -0.4330,  0.0723,  0.4403]]),\n",
              " 'RT @Professor_Why: #WhatsRomneyHiding - his connection to supporters of Critical Race Theory.... Oh wait, that was Obama, not Romney...')"
            ]
          },
          "metadata": {
            "tags": []
          },
          "execution_count": 161
        }
      ]
    },
    {
      "cell_type": "code",
      "metadata": {
        "id": "fJK-lUrGvQzs"
      },
      "source": [
        "train_size = int(0.8 * len(dataset))\n",
        "test_size = len(dataset) - train_size\n",
        "train_dataset, test_dataset = torch.utils.data.random_split(dataset, [train_size, test_size])"
      ],
      "execution_count": 87,
      "outputs": []
    },
    {
      "cell_type": "code",
      "metadata": {
        "colab": {
          "base_uri": "https://localhost:8080/"
        },
        "id": "PModVtytF5N5",
        "outputId": "50b6ae5d-4f2f-42f4-f9e9-6e17a0abfaca"
      },
      "source": [
        "train_size"
      ],
      "execution_count": 90,
      "outputs": [
        {
          "output_type": "execute_result",
          "data": {
            "text/plain": [
              "1091"
            ]
          },
          "metadata": {
            "tags": []
          },
          "execution_count": 90
        }
      ]
    },
    {
      "cell_type": "code",
      "metadata": {
        "colab": {
          "base_uri": "https://localhost:8080/"
        },
        "id": "RvcGGZcBFYzU",
        "outputId": "6c3635f4-7ebc-4e10-c8de-c0fbdcd54356"
      },
      "source": [
        "train_dataset[0]"
      ],
      "execution_count": 88,
      "outputs": [
        {
          "output_type": "execute_result",
          "data": {
            "text/plain": [
              "(tensor(0),\n",
              " tensor([[ 0.0000,  0.0000,  0.0000,  ...,  0.0000,  0.0000,  0.0000],\n",
              "         [ 0.6947,  0.2218,  0.1053,  ...,  0.3487, -0.6308,  0.3809],\n",
              "         [-0.6233, -0.4243, -0.0353,  ..., -0.1361,  0.0987,  0.6090],\n",
              "         ...,\n",
              "         [ 0.3165, -0.0019, -0.3633,  ..., -0.3862,  0.0104,  0.6200],\n",
              "         [ 0.2336, -0.3992, -0.2368,  ..., -0.4330,  0.0723,  0.4403],\n",
              "         [ 0.0000,  0.0000,  0.0000,  ...,  0.0000,  0.0000,  0.0000]]),\n",
              " 'RT @/SheCallsMeLarryThe \"new\" anti-Obama slur from the #RWNJ echo chamber is THUG? So we\\'ve decided to just let ... http://t.co/lFYgXSNS')"
            ]
          },
          "metadata": {
            "tags": []
          },
          "execution_count": 88
        }
      ]
    },
    {
      "cell_type": "code",
      "metadata": {
        "colab": {
          "base_uri": "https://localhost:8080/"
        },
        "id": "Mjp9gghKFZ9u",
        "outputId": "92c8b7b4-bc71-49f3-b549-627a0f9c3f41"
      },
      "source": [
        "test_dataset[0]"
      ],
      "execution_count": 89,
      "outputs": [
        {
          "output_type": "execute_result",
          "data": {
            "text/plain": [
              "(tensor(0),\n",
              " tensor([[ 0.1191,  0.0495, -0.0815,  ...,  0.6728, -0.0497,  0.3084],\n",
              "         [-0.0055,  0.0979,  0.3243,  ..., -0.2580, -0.5349, -0.3267],\n",
              "         [ 0.1030,  0.4800, -0.5092,  ..., -0.0370, -1.3354,  0.9289],\n",
              "         ...,\n",
              "         [-0.0018, -0.3367, -0.1308,  ..., -0.9911, -0.4665,  0.1936],\n",
              "         [ 0.2336, -0.3992, -0.2368,  ..., -0.4330,  0.0723,  0.4403],\n",
              "         [ 0.0000,  0.0000,  0.0000,  ...,  0.0000,  0.0000,  0.0000]]),\n",
              " \"Examiner Editorial: Obama's budget, not Ryan's, is 'antithetical' to history: Speaking at the American Society o... http://t.co/mNhPMR5U\")"
            ]
          },
          "metadata": {
            "tags": []
          },
          "execution_count": 89
        }
      ]
    },
    {
      "cell_type": "code",
      "metadata": {
        "id": "-OQdOdOjFbjR"
      },
      "source": [
        "class TweetsDataModule(pl.LightningDataModule):\n",
        "    \"\"\"\n",
        "    DataModule for Tweets, train, val, test splits and transforms\n",
        "    \"\"\"\n",
        "\n",
        "    name = \"tweets\"\n",
        "\n",
        "    def __init__(\n",
        "        self,\n",
        "        data_dir: str = '.',\n",
        "        val_split: int = 1000,\n",
        "        num_workers: int = 2,\n",
        "        batch_size: int = 128,\n",
        "        *args,\n",
        "        **kwargs,\n",
        "    ):\n",
        "        \"\"\"\n",
        "        Args:\n",
        "            data_dir: where to save/load the data\n",
        "            val_split: how many of the training images to use for the validation split\n",
        "            num_workers: how many workers to use for loading data\n",
        "            normalize: If true applies image normalize\n",
        "            batch_size: desired batch size.\n",
        "        \"\"\"\n",
        "        super().__init__(*args, **kwargs)\n",
        "\n",
        "        self.data_dir = data_dir\n",
        "        self.val_split = val_split\n",
        "        self.num_workers = num_workers\n",
        "        self.batch_size = batch_size\n",
        "\n",
        "        self.dataset_train = ...\n",
        "        self.dataset_val = ...\n",
        "        self.dataset_test = ...\n",
        "        self.vectors = ...\n",
        "\n",
        "        self.Dataset = TweetsDataset\n",
        "\n",
        "    def prepare_data(self):\n",
        "        \"\"\"Saves IMDB files to `data_dir`\"\"\"\n",
        "        self.Dataset(self.data_dir)\n",
        "\n",
        "    def setup(self, stage: Optional[str] = None):\n",
        "        \"\"\"Split the train and valid dataset\"\"\"\n",
        "        \n",
        "        self.vectors = torchtext.vocab.GloVe(\"6B\")\n",
        "\n",
        "        self._dataset = self.Dataset(self.data_dir, vectors=self.vectors)\n",
        "\n",
        "        train_size = len(self._dataset) - self.val_split\n",
        "        test_size = self.val_split\n",
        "        train_dataset, test_dataset = torch.utils.data.random_split(self._dataset, [train_size, test_size])\n",
        "        \n",
        "        self.dataset_train = train_dataset\n",
        "        self.dataset_test = test_dataset\n",
        "\n",
        "    def train_dataloader(self):\n",
        "        loader = DataLoader(\n",
        "            self.dataset_train,\n",
        "            batch_size=self.batch_size,\n",
        "            shuffle=True,\n",
        "            num_workers=self.num_workers,\n",
        "            pin_memory=True,\n",
        "            collate_fn=self.collator_fn\n",
        "        )\n",
        "        return loader\n",
        "\n",
        "    def val_dataloader(self):\n",
        "        loader = DataLoader(\n",
        "            self.dataset_test,\n",
        "            batch_size=self.batch_size,\n",
        "            shuffle=False,\n",
        "            num_workers=self.num_workers,\n",
        "            pin_memory=True,\n",
        "            collate_fn=self.collator_fn\n",
        "        )\n",
        "        return loader\n",
        "\n",
        "    def test_dataloader(self):\n",
        "        loader = DataLoader(\n",
        "            self.dataset_test,\n",
        "            batch_size=self.batch_size,\n",
        "            shuffle=False,\n",
        "            num_workers=self.num_workers,\n",
        "            pin_memory=True,\n",
        "            collate_fn=self.collator_fn\n",
        "        )\n",
        "        return loader\n",
        "\n",
        "    def get_vocab(self):\n",
        "        return self._dataset.get_vocab()\n",
        "    \n",
        "    def get_vectors(self):\n",
        "        return self._dataset.get_vectors()\n",
        "\n",
        "    def get_labels(self):\n",
        "        return self._dataset.get_labels()\n",
        "        \n",
        "    @property\n",
        "    def default_transforms(self):\n",
        "        train_transforms = {\n",
        "            'text_transforms': text_f.sequential_transforms(\n",
        "                random_deletion,\n",
        "                random_swap\n",
        "            ),\n",
        "            'label_transforms': None\n",
        "        }\n",
        "        test_transforms = {\n",
        "            'text_transforms': None,\n",
        "            'label_transforms': None\n",
        "        }\n",
        "\n",
        "        return train_transforms, test_transforms\n",
        "\n",
        "    @property\n",
        "    def collator_fn(self):\n",
        "        return self._dataset.collator_fn(raw_texts=True)"
      ],
      "execution_count": 168,
      "outputs": []
    },
    {
      "cell_type": "code",
      "metadata": {
        "colab": {
          "base_uri": "https://localhost:8080/"
        },
        "id": "pa80G-bhHcje",
        "outputId": "bf5fad37-9f75-4b5d-a8d9-f5668fbc2c31"
      },
      "source": [
        "datamodule = TweetsDataModule(batch_size=16)\n",
        "datamodule.setup()"
      ],
      "execution_count": 177,
      "outputs": [
        {
          "output_type": "stream",
          "text": [
            "File exists: tweets_cleaned.csv\n"
          ],
          "name": "stdout"
        }
      ]
    },
    {
      "cell_type": "code",
      "metadata": {
        "id": "l0rBRFF4IJOj"
      },
      "source": [
        "train_loader = datamodule.train_dataloader()\n",
        "val_loader = datamodule.val_dataloader()\n",
        "test_loader = datamodule.test_dataloader()"
      ],
      "execution_count": 178,
      "outputs": []
    },
    {
      "cell_type": "code",
      "metadata": {
        "colab": {
          "base_uri": "https://localhost:8080/"
        },
        "id": "IUd_RNLIL3Oc",
        "outputId": "23436a8b-906f-4fda-caa1-c34448844b8e"
      },
      "source": [
        "len(train_loader), len(val_loader), len(test_loader)"
      ],
      "execution_count": 179,
      "outputs": [
        {
          "output_type": "execute_result",
          "data": {
            "text/plain": [
              "(22, 63, 63)"
            ]
          },
          "metadata": {
            "tags": []
          },
          "execution_count": 179
        }
      ]
    },
    {
      "cell_type": "code",
      "metadata": {
        "id": "EPqHvHw9L_zL"
      },
      "source": [
        "a, b, c, d = next(iter(train_loader))"
      ],
      "execution_count": 180,
      "outputs": []
    },
    {
      "cell_type": "markdown",
      "metadata": {
        "id": "zKLeNpBSMJYr"
      },
      "source": [
        "Labels"
      ]
    },
    {
      "cell_type": "code",
      "metadata": {
        "colab": {
          "base_uri": "https://localhost:8080/"
        },
        "id": "5pdxHSqkMDY_",
        "outputId": "5d20f142-1d75-4487-90fb-66a63ef08c32"
      },
      "source": [
        "a"
      ],
      "execution_count": 181,
      "outputs": [
        {
          "output_type": "execute_result",
          "data": {
            "text/plain": [
              "tensor([1, 0, 0, 0, 0, 2, 0, 0, 1, 0, 1, 0, 0, 1, 0, 2])"
            ]
          },
          "metadata": {
            "tags": []
          },
          "execution_count": 181
        }
      ]
    },
    {
      "cell_type": "markdown",
      "metadata": {
        "id": "8jip-KtiMKgU"
      },
      "source": [
        "Embeddings"
      ]
    },
    {
      "cell_type": "code",
      "metadata": {
        "colab": {
          "base_uri": "https://localhost:8080/"
        },
        "id": "8ijw5A9JMEKP",
        "outputId": "9e235c21-03ad-4afe-f395-683ead22a5d9"
      },
      "source": [
        "b"
      ],
      "execution_count": 182,
      "outputs": [
        {
          "output_type": "execute_result",
          "data": {
            "text/plain": [
              "(tensor([[ 0.1030,  0.4800, -0.5092,  ..., -0.0370, -1.3354,  0.9289],\n",
              "         [-0.0952, -0.0464, -0.0794,  ...,  0.0071, -0.0759,  0.0163],\n",
              "         [ 0.0466,  0.2132, -0.0074,  ...,  0.0091, -0.2099,  0.0539],\n",
              "         ...,\n",
              "         [-0.1937, -0.2979,  0.3024,  ...,  0.0618,  0.2053, -0.0833],\n",
              "         [-0.0769, -0.0212,  0.2127,  ...,  0.1835, -0.2918, -0.0465],\n",
              "         [ 0.2336, -0.3992, -0.2368,  ..., -0.4330,  0.0723,  0.4403]]),\n",
              " tensor([[ 2.3364e-01, -3.9918e-01, -2.3682e-01, -3.2494e-02, -4.1984e-01,\n",
              "           4.0952e-01, -4.5269e-01,  2.5497e-01,  1.1024e-01, -1.7710e+00,\n",
              "           5.0734e-01, -3.5370e-01, -5.4218e-01,  2.7641e-01, -2.3521e-01,\n",
              "          -2.4534e-01, -2.7927e-01,  1.4222e-01, -1.3010e-01, -2.7662e-02,\n",
              "           2.8358e-02,  3.8252e-01, -1.5431e-01,  1.2432e-02,  1.2361e-01,\n",
              "           2.6327e-02,  1.8822e-01, -6.4913e-01,  1.6248e-01,  2.5412e-02,\n",
              "          -2.0837e-01,  2.6968e-01, -5.3579e-01, -3.3051e-01, -8.7098e-01,\n",
              "           2.5305e-01,  9.1478e-02,  1.2093e-01, -1.7938e-01, -3.8316e-02,\n",
              "          -1.7748e-01, -1.7311e-02, -3.1461e-01, -2.5822e-01, -3.3044e-01,\n",
              "           2.5246e-01,  4.1415e-01,  2.1871e-01,  1.6055e-01,  1.8058e-01,\n",
              "           1.7873e-01,  3.5464e-02, -1.4913e-01, -2.6956e-01, -5.9254e-01,\n",
              "           1.4066e-01,  1.8795e-01,  1.2967e-01,  4.2172e-01, -1.4127e-01,\n",
              "           3.2635e-01, -1.1559e-01, -3.7074e-01,  2.3862e-01, -4.2861e-01,\n",
              "          -2.8463e-01,  3.4630e-01, -1.4743e-01, -1.7131e-01,  2.8421e-02,\n",
              "           2.4696e-01, -3.7678e-01, -2.2546e-02,  3.2507e-01,  1.0197e-01,\n",
              "          -3.8385e-01,  3.3661e-01,  2.8762e-01,  4.2666e-01, -8.8047e-02,\n",
              "          -2.3761e-01, -1.6297e-01,  3.3843e-01,  9.1030e-02,  7.8720e-02,\n",
              "           9.9988e-02, -3.7669e-01,  2.9974e-01, -2.1589e-01, -2.6663e-01,\n",
              "          -1.6022e-01, -6.5972e-02, -4.2170e-01, -2.8013e-01,  9.5514e-02,\n",
              "           1.1613e-01, -3.4698e-01,  1.1244e-02,  1.9030e-01, -3.4617e-02,\n",
              "           3.5419e-02, -2.5665e-01, -1.6472e-01,  7.6103e-02, -1.3486e-01,\n",
              "          -4.8018e-01,  5.1388e-01,  3.0963e-01, -7.9759e-02, -7.4428e-02,\n",
              "           5.4360e-02, -6.7529e-01, -2.6021e-02, -3.5343e-01,  3.3792e-01,\n",
              "          -9.6858e-02,  1.7218e-01,  6.0416e-02,  2.1936e-01, -1.8884e-01,\n",
              "           3.3465e-01, -1.9937e-01,  1.2004e-01,  6.9741e-02,  3.0650e-02,\n",
              "          -6.7971e-01, -3.6109e-02,  4.3345e-01,  3.6476e-02, -5.7148e-02,\n",
              "           1.1866e-01, -1.3000e-01, -1.2044e-01, -5.2241e-02, -4.2420e-01,\n",
              "           4.2517e-02, -1.8832e-01, -1.5986e-01, -1.8803e-01,  1.7969e-02,\n",
              "          -4.9600e-01,  1.7147e-01, -1.6856e-01,  4.2051e-01, -5.0056e-01,\n",
              "          -7.6019e-02, -8.8181e-02,  3.6908e-01, -2.9265e-01, -1.0561e-01,\n",
              "          -2.5365e-01, -1.9802e-01,  5.9994e-02, -5.6243e-02,  2.1110e-01,\n",
              "           1.1561e-02,  2.0308e-01,  3.4384e-01,  3.9201e-02, -1.0353e-01,\n",
              "           1.4239e-01, -2.2818e-01, -4.9573e-01, -2.4818e-01, -2.0804e-01,\n",
              "           1.1030e-01,  1.1979e-02,  1.0189e-01, -6.1159e-01,  2.3139e-02,\n",
              "           6.2689e-01,  3.0769e-01, -1.6039e-01, -8.4575e-02, -1.0192e-02,\n",
              "          -7.9143e-02, -5.6375e-02,  3.2311e-01,  1.8004e-01,  1.9453e-01,\n",
              "          -1.0100e-02, -3.6572e-01,  3.3871e-01, -4.2348e-01, -4.8062e-01,\n",
              "          -2.4401e-02, -6.6947e-02,  1.2688e-03,  9.3639e-02,  3.7503e-01,\n",
              "          -2.6696e-01,  2.1463e-02,  4.5331e-01, -1.0020e-01, -1.2055e-01,\n",
              "          -9.7732e-03,  7.0450e-02, -8.7093e-02,  3.9615e-01, -2.8706e-01,\n",
              "           1.3983e+00,  3.9345e-01,  1.1253e-01, -2.5054e-02,  2.9924e-01,\n",
              "           4.7312e-02,  2.5990e-01, -1.1416e-01, -1.0839e-01, -3.9441e-01,\n",
              "          -5.2880e-01,  1.4411e-01, -8.0092e-02,  3.3335e-01, -1.1943e-01,\n",
              "          -5.6432e-02,  4.0230e-01,  2.6636e-01,  1.7856e-01, -2.0187e-01,\n",
              "          -4.4826e-01,  1.7535e-01, -1.2050e-01, -4.1057e-02,  8.1138e-02,\n",
              "          -8.7844e-02, -6.5420e-02,  1.7706e-01,  3.6328e-01, -2.8138e-01,\n",
              "          -8.9398e-02, -1.5100e-01,  1.3806e-01, -3.4261e-01, -4.8224e-01,\n",
              "          -6.8874e-02, -2.0673e-02, -4.4570e-01, -3.3890e-01, -1.7060e-01,\n",
              "          -1.8879e-01,  1.3333e-01,  2.9582e-01,  2.7021e-01, -1.6716e-01,\n",
              "           2.2976e-02, -8.9022e-02,  3.8743e-01,  9.7155e-02, -1.6801e-01,\n",
              "           9.9386e-02, -2.0878e-01,  1.4774e-02,  1.5506e-01,  4.2549e-01,\n",
              "           2.6801e-01,  1.3800e-02, -1.4079e-01,  1.4154e-01,  2.3559e-02,\n",
              "           2.9486e-01, -3.3932e-01, -1.3166e-01,  4.3438e-02, -2.4176e-01,\n",
              "           1.2826e-02,  1.0027e-01,  1.5095e-02,  6.7407e-02,  3.6727e-02,\n",
              "           8.7732e-02, -2.7566e-01,  3.1966e-01,  1.0680e-01, -8.1801e-02,\n",
              "           2.6849e-01, -1.7666e+00,  3.5780e-01,  9.0878e-01, -1.9413e-01,\n",
              "           1.7243e-01, -1.6205e-01, -3.9421e-02, -3.9136e-02,  2.5881e-01,\n",
              "           1.7963e-01,  3.3348e-02,  8.6958e-02,  1.6183e-01, -1.5895e-01,\n",
              "          -7.2694e-02, -3.0278e-01, -2.7148e-01,  2.4230e-01,  3.3633e-01,\n",
              "           2.2533e-02,  1.2958e-01, -4.3302e-01,  7.2295e-02,  4.4034e-01]]),\n",
              " tensor([[ 0.4367,  0.1879, -0.1702,  ...,  0.0329, -0.5214,  0.2229],\n",
              "         [ 0.1030,  0.4800, -0.5092,  ..., -0.0370, -1.3354,  0.9289],\n",
              "         [-0.2159, -0.0694, -0.4205,  ..., -0.3856, -0.0295,  0.2319],\n",
              "         ...,\n",
              "         [-0.1853,  0.2265,  0.4669,  ...,  0.3568,  0.0926, -0.3250],\n",
              "         [-0.1356,  0.6042,  0.1886,  ...,  0.6898, -0.4782, -0.6328],\n",
              "         [-0.1256,  0.0136,  0.1031,  ..., -0.3422, -0.0224,  0.1368]]),\n",
              " tensor([[ 0.0000,  0.0000,  0.0000,  ...,  0.0000,  0.0000,  0.0000],\n",
              "         [ 0.2842,  0.1139,  0.1627,  ..., -0.0258, -0.7969, -0.3656],\n",
              "         [ 0.0228,  0.0753,  0.1626,  ...,  0.1551, -0.0911,  0.3461],\n",
              "         ...,\n",
              "         [-0.5042,  0.3107,  0.1428,  ..., -0.4410, -0.0087, -0.2264],\n",
              "         [ 0.1030,  0.4800, -0.5092,  ..., -0.0370, -1.3354,  0.9289],\n",
              "         [-0.0833, -0.2090, -0.0436,  ..., -0.1775,  0.0558,  0.8013]]),\n",
              " tensor([[ 0.1030,  0.4800, -0.5092,  ..., -0.0370, -1.3354,  0.9289],\n",
              "         [ 0.4359,  0.7779,  0.1559,  ...,  0.0812, -0.5382,  0.3439],\n",
              "         [-0.1832, -0.0581, -0.2976,  ..., -0.1905, -0.1433,  0.3899],\n",
              "         ...,\n",
              "         [-0.2408,  0.3138,  0.2818,  ..., -0.3323, -0.3507, -0.0918],\n",
              "         [-0.0769, -0.0212,  0.2127,  ...,  0.1835, -0.2918, -0.0465],\n",
              "         [-0.4390,  0.4764,  0.1884,  ...,  0.2697,  0.0366,  0.1602]]),\n",
              " tensor([[-0.1761,  0.1094,  0.2946,  ...,  0.0573,  0.0355,  0.0572],\n",
              "         [ 0.2315,  0.0815,  0.0757,  ..., -0.1533,  0.2428, -0.8431],\n",
              "         [-0.2554, -0.2572,  0.1317,  ..., -0.2329, -0.1223,  0.3550],\n",
              "         [-0.4521, -0.3312, -0.0636,  ...,  0.0389,  0.2431, -0.0287],\n",
              "         [ 0.1030,  0.4800, -0.5092,  ..., -0.0370, -1.3354,  0.9289]]),\n",
              " tensor([[ 0.0000,  0.0000,  0.0000,  ...,  0.0000,  0.0000,  0.0000],\n",
              "         [-0.5797, -0.3435, -0.0260,  ...,  0.0487,  0.2181,  0.2560],\n",
              "         [-0.2700,  0.0272, -0.1467,  ..., -0.5951,  0.5723,  0.2792],\n",
              "         ...,\n",
              "         [-0.1029, -0.1291, -0.2411,  ...,  0.4358,  0.5310, -0.4528],\n",
              "         [ 0.7083,  0.2121,  0.3300,  ..., -0.2489, -0.0812, -0.4085],\n",
              "         [-0.1256,  0.0136,  0.1031,  ..., -0.3422, -0.0224,  0.1368]]),\n",
              " tensor([[ 0.0000,  0.0000,  0.0000,  ...,  0.0000,  0.0000,  0.0000],\n",
              "         [-0.0019,  0.6578,  0.4683,  ...,  0.1740, -0.6013,  0.0379],\n",
              "         [ 0.2352, -0.3136, -0.1018,  ..., -0.1350, -0.4654,  0.8753],\n",
              "         ...,\n",
              "         [ 0.1595,  0.3904,  0.3893,  ..., -0.0389, -0.6799,  0.0796],\n",
              "         [ 0.0406, -0.0284,  0.2501,  ..., -0.7256, -0.1930,  0.2275],\n",
              "         [-0.5192, -0.1312,  0.4602,  ..., -0.1755, -0.0471, -0.3597]]),\n",
              " tensor([[-0.2275, -0.1366, -0.3900,  ..., -0.1844, -0.3823,  0.5535],\n",
              "         [ 0.4367,  0.1879, -0.1702,  ...,  0.0329, -0.5214,  0.2229],\n",
              "         [-0.1749,  0.2296,  0.2492,  ..., -0.2413, -0.4040,  0.0547],\n",
              "         ...,\n",
              "         [-0.1256,  0.0136,  0.1031,  ..., -0.3422, -0.0224,  0.1368],\n",
              "         [ 0.1030,  0.4800, -0.5092,  ..., -0.0370, -1.3354,  0.9289],\n",
              "         [-0.0670,  0.3405,  0.1530,  ...,  0.0754, -0.0031,  0.1132]]),\n",
              " tensor([[-0.0721, -0.1442,  0.0184,  ..., -0.1755,  0.1228,  0.4153],\n",
              "         [ 0.1286,  0.2505, -0.5547,  ..., -0.3296,  0.2584,  0.3014],\n",
              "         [-0.0080,  0.3221, -0.5227,  ...,  0.5759, -0.4203,  0.4135],\n",
              "         ...,\n",
              "         [-0.3918,  0.0430,  0.2727,  ..., -0.4052,  0.0125,  0.0935],\n",
              "         [-0.1256,  0.0136,  0.1031,  ..., -0.3422, -0.0224,  0.1368],\n",
              "         [-0.2885,  0.1338, -0.6428,  ..., -0.2474,  0.0458, -0.0788]]),\n",
              " tensor([[ 0.0000,  0.0000,  0.0000,  ...,  0.0000,  0.0000,  0.0000],\n",
              "         [ 0.4065,  0.2500, -0.0997,  ...,  0.3518, -0.0801,  0.6948],\n",
              "         [ 0.3811,  0.3139,  0.1390,  ...,  0.1152, -0.4883,  0.9626],\n",
              "         ...,\n",
              "         [-0.2271, -0.2498,  0.2693,  ...,  0.6411,  0.1819,  0.1507],\n",
              "         [ 0.0557, -0.1901, -0.0472,  ..., -0.0628,  0.0651,  0.2085],\n",
              "         [-0.1256,  0.0136,  0.1031,  ..., -0.3422, -0.0224,  0.1368]]),\n",
              " tensor([[ 0.0000,  0.0000,  0.0000,  ...,  0.0000,  0.0000,  0.0000],\n",
              "         [-0.0080,  0.3221, -0.5227,  ...,  0.5759, -0.4203,  0.4135],\n",
              "         [ 0.1030,  0.4800, -0.5092,  ..., -0.0370, -1.3354,  0.9289],\n",
              "         ...,\n",
              "         [-0.0731, -0.2013,  0.3124,  ..., -0.7326, -0.2777, -0.1194],\n",
              "         [-0.1256,  0.0136,  0.1031,  ..., -0.3422, -0.0224,  0.1368],\n",
              "         [ 0.0000,  0.0000,  0.0000,  ...,  0.0000,  0.0000,  0.0000]]),\n",
              " tensor([[-0.1329,  0.1699, -0.1436,  ..., -0.2378,  0.1477,  0.6290],\n",
              "         [-0.0528, -0.0959,  0.1283,  ..., -0.2282,  0.4082,  0.2976],\n",
              "         [-0.1256,  0.0136,  0.1031,  ..., -0.3422, -0.0224,  0.1368],\n",
              "         ...,\n",
              "         [-0.0113,  0.4571,  0.5485,  ...,  0.0631, -0.3707,  0.3364],\n",
              "         [-0.0993,  0.7364,  0.5107,  ..., -0.0291,  0.2507, -0.6140],\n",
              "         [ 0.2336, -0.3992, -0.2368,  ..., -0.4330,  0.0723,  0.4403]]),\n",
              " tensor([[ 0.0000,  0.0000,  0.0000,  ...,  0.0000,  0.0000,  0.0000],\n",
              "         [ 0.3457,  0.3621, -0.2796,  ...,  0.2262, -0.3433, -0.0743],\n",
              "         [ 0.1030,  0.4800, -0.5092,  ..., -0.0370, -1.3354,  0.9289],\n",
              "         ...,\n",
              "         [-0.1949,  0.1485, -0.0529,  ..., -0.3187, -0.0667, -0.1759],\n",
              "         [-0.0166,  0.0036,  0.3383,  ..., -0.2315, -0.0252,  0.1306],\n",
              "         [-0.1256,  0.0136,  0.1031,  ..., -0.3422, -0.0224,  0.1368]]),\n",
              " tensor([[ 0.0000,  0.0000,  0.0000,  ...,  0.0000,  0.0000,  0.0000],\n",
              "         [-0.1692, -0.3275, -0.4385,  ...,  0.0439, -0.3858,  0.9958],\n",
              "         [-0.1689,  0.0284,  0.1690,  ...,  0.0735, -0.0310, -0.1005],\n",
              "         ...,\n",
              "         [-0.2573,  0.4637, -0.0436,  ..., -0.3611,  0.1480,  0.1106],\n",
              "         [-0.0382,  0.2350,  0.0095,  ..., -0.7121, -0.3887, -0.2271],\n",
              "         [ 0.6947,  0.2218,  0.1053,  ...,  0.3487, -0.6308,  0.3809]]),\n",
              " tensor([[ 0.0000,  0.0000,  0.0000,  ...,  0.0000,  0.0000,  0.0000],\n",
              "         [ 0.1030,  0.4800, -0.5092,  ..., -0.0370, -1.3354,  0.9289],\n",
              "         [-0.3457,  0.2848, -0.4848,  ..., -0.4811, -0.3120, -0.0681],\n",
              "         ...,\n",
              "         [ 0.0466,  0.2132, -0.0074,  ...,  0.0091, -0.2099,  0.0539],\n",
              "         [-0.1211, -0.1430,  0.0928,  ..., -0.2323,  0.0612, -0.1916],\n",
              "         [-0.2935,  0.3325, -0.0474,  ..., -0.0967,  0.4444,  0.2201]]))"
            ]
          },
          "metadata": {
            "tags": []
          },
          "execution_count": 182
        }
      ]
    },
    {
      "cell_type": "markdown",
      "metadata": {
        "id": "z5DvhVsHML7y"
      },
      "source": [
        "Lengths"
      ]
    },
    {
      "cell_type": "code",
      "metadata": {
        "colab": {
          "base_uri": "https://localhost:8080/"
        },
        "id": "QFt-a7R5MEcp",
        "outputId": "0e24850c-4aaa-43a6-b611-245665fc2ce5"
      },
      "source": [
        "c"
      ],
      "execution_count": 183,
      "outputs": [
        {
          "output_type": "execute_result",
          "data": {
            "text/plain": [
              "tensor([17,  1, 24, 37,  8,  5, 24, 14, 25, 20, 18, 12, 11, 26, 27, 31])"
            ]
          },
          "metadata": {
            "tags": []
          },
          "execution_count": 183
        }
      ]
    },
    {
      "cell_type": "markdown",
      "metadata": {
        "id": "LsGMnYDwMM-j"
      },
      "source": [
        "Actual Tweets"
      ]
    },
    {
      "cell_type": "code",
      "metadata": {
        "colab": {
          "base_uri": "https://localhost:8080/"
        },
        "id": "yWlJykbpMF9D",
        "outputId": "d364b82f-3e71-4488-db87-a7e875b2c261"
      },
      "source": [
        "d"
      ],
      "execution_count": 184,
      "outputs": [
        {
          "output_type": "execute_result",
          "data": {
            "text/plain": [
              "('Obama Respects the Supreme Court Says Eric Holder, Violence in Syria Continues in Anticipation of... http://t.co/5QBOVrBw #libertario #tlot',\n",
              " '#tcot... http://t.co/oVMu9fKA',\n",
              " 'President Obama ^ Lindsay Lohan RUMORS beginning ^ 1987 Analyst64 was protected ^ Future time-line indicator ^ Scramble scam mode video.',\n",
              " 'RT @ohgirlphrase: American kid \"You\\'re from the UK? Ohhh cool, So do you have tea with the Queen?\". British kid: \"Do you like, go to Mcdonalds with Obama?',\n",
              " 'Obama campaign wants to train army of women http://t.co/48O3o6jd',\n",
              " 'Happy Passover, love Obama http://t.co/gHQ3NrWP',\n",
              " 'RT @jmimac351: @EWErickson $4 gas, high unemployment & Obama is worried about Augusta National. This is smoke and mirrors for utter failure. #cantwait2vote',\n",
              " 'RT @cannabis_times: Drug Policy Groups Unite to Demand End to Medical Marijuana Raids - http://t.co/y1W2HmGS via @Shareaholic',\n",
              " '#edshow  My President is standing up,speaking up,fighting back and I am so glad he has taken the gloves off. OBAMA 2012 @edshow',\n",
              " \"Why did Michelle & Barack Obama become like celebrities? -.- I can't take them seriously now. haha\",\n",
              " 'RT @JeffersonObama: Arianna Huffington blasting President Obama at any chance and praising GOP. This pic explains things. http://t.co/Ov6I5CoS',\n",
              " 'RT @LouTommoBum: Michelle Obama invited the boys to her Easter party. l0l',\n",
              " '@djtechchicago I see. Hmm, need a good #obama hash tag...',\n",
              " 'RT @markknoller: Pres Obama sayd \"I cannot wait\" for the \"big important debate\" we are going to have on these issues.',\n",
              " 'RT @ForAmerica: McCaskill Calls For Obama to Release Day&Half Supply of Oil From SPR via @MOPNS But Biden says oil policy is \"best it\\'s ever been\" #MOsen',\n",
              " 'RT @blessmyliberty: Obama will portray #Romney as a rich, white guy outta touch w/the working class whos policies are similar to his so why not keep the hip cat')"
            ]
          },
          "metadata": {
            "tags": []
          },
          "execution_count": 184
        }
      ]
    },
    {
      "cell_type": "code",
      "metadata": {
        "id": "itAT3NO9MHKD"
      },
      "source": [
        ""
      ],
      "execution_count": null,
      "outputs": []
    }
  ]
}